{
 "cells": [
  {
   "cell_type": "markdown",
   "metadata": {},
   "source": [
    "# TRAIN TRAFFIC IN FINLAND: June 2022"
   ]
  },
  {
   "cell_type": "markdown",
   "metadata": {},
   "source": [
    "I made a quick data exploration on the main dataset and on the TimeTableRows column of each missions. Then I analysed more deeply my findings to look for anomalies or other relevant information."
   ]
  },
  {
   "cell_type": "markdown",
   "metadata": {},
   "source": [
    "### Abstract"
   ]
  },
  {
   "cell_type": "markdown",
   "metadata": {},
   "source": [
    "i) Data Import\n",
    "\n",
    "I) Main dataset Exploration\n",
    "\n",
    "    - first overview\n",
    "    - Distribution vizualisation for each columns\n",
    "    - Deeper Analysis\n",
    "    \n",
    "II) TimeTableRows column Analysis\n",
    "\n",
    "    - Data extraction from timeTableRows\n",
    "    - first overview\n",
    "    - Distribution vizualisation for each columns\n",
    "    \n",
    "III) Anomaly Detection and Analysis\n",
    "\n",
    "    - Real missions duration\n",
    "    - Number of stops for each mission\n",
    "    - nb_stations_intheway/real_mission_duration DBSCAN\n",
    "    - train delay outliers\n",
    "    - Difference between scheduled time and timetableAcceptanceDate\n",
    "    \n",
    "IV) Final conclusion"
   ]
  },
  {
   "cell_type": "markdown",
   "metadata": {},
   "source": [
    "## Imports"
   ]
  },
  {
   "cell_type": "code",
   "execution_count": 1,
   "metadata": {},
   "outputs": [],
   "source": [
    "import requests\n",
    "\n",
    "# We work a lot with pandas and its functionalities,\n",
    "# but if you are more comfortable with a different package, then feel free to use yours!\n",
    "import pandas as pd\n",
    "import numpy as np\n",
    "import matplotlib.pyplot as plt\n",
    "import seaborn as sns"
   ]
  },
  {
   "cell_type": "markdown",
   "metadata": {},
   "source": [
    "## Task description\n",
    "\n",
    "Since we want to get a better understanding of your Python skills and how you approach a task, we ask you to send us a solution for this coding task.\n",
    "\n",
    "Imagine we have a new customer who provides us a small dataset and wants to get some insights about his fleet.\n",
    "\n",
    "Your task is to perform a little data exploration on the provided data and then apply simple anomaly detection techniques. <br>\n",
    "Support your findings with plots, when possible and when it makes sense. <br>\n",
    "Do not forget to comment your code and write a final conclusion when you are done."
   ]
  },
  {
   "cell_type": "markdown",
   "metadata": {},
   "source": [
    "As a dataset for this small task, we use data of trains operating in Finland, which is accesible through an API (https://www.digitraffic.fi/en/railway-traffic/)."
   ]
  },
  {
   "cell_type": "markdown",
   "metadata": {},
   "source": [
    "For a fast start, we provide some examples how you can query data: "
   ]
  },
  {
   "cell_type": "code",
   "execution_count": 32,
   "metadata": {},
   "outputs": [],
   "source": [
    "# live data for the current trains\n",
    "live_api = 'https://rata.digitraffic.fi/api/v1/live-trains/'\n",
    "\n",
    "# data for one train and one particular date\n",
    "train_day_api = 'https://rata.digitraffic.fi/api/v1/trains/2022-06-01'\n",
    "\n",
    "# data for one particular day for all trains\n",
    "day_api = 'https://rata.digitraffic.fi/api/v1/trains/2021-02-01'"
   ]
  },
  {
   "cell_type": "markdown",
   "metadata": {},
   "source": [
    "## Your Approach\n",
    "\n",
    "Perform the following steps:\n",
    "1. Load the data from the API (use at least one month of data)\n",
    "2. Perform data exploration to get a better understanding of the data, which information is it providing and describe what you find. \n",
    "    - See this step also as preparation for the next one\n",
    "    - Consider that the column 'timeTableRows' contains further, embedded information\n",
    "    - Important aspects could also be cancellations, delays and their causes\n",
    "\n",
    "\n",
    "3. Try to find anomalies taking into account: \n",
    "    - Number of stations on the way\n",
    "    - Total time from entry point to final destination"
   ]
  },
  {
   "cell_type": "markdown",
   "metadata": {},
   "source": [
    "## Data import"
   ]
  },
  {
   "cell_type": "code",
   "execution_count": 6,
   "metadata": {
    "scrolled": true
   },
   "outputs": [],
   "source": [
    "\"\"\"I queried each days of june 2022 individually and concatenated all of them.\n",
    "Each day of traffic has its own dataset as there must be no way to get a whole month in one request using json,\n",
    "that's why I used this method\"\"\"\n",
    "\n",
    "# takes a few minutes to execute\n",
    "df=pd.DataFrame()\n",
    "for day in range(1,31):\n",
    "    if len(str(day))==1: \n",
    "        day=\"0\"+str(day)\n",
    "    train_day_api = f'https://rata.digitraffic.fi/api/v1/trains/2022-06-{day}'\n",
    "    df=pd.concat([df, pd.read_json(requests.get(train_day_api).text)], axis=0)\n",
    "    \n",
    "df=df.reset_index(drop=True)  \n"
   ]
  },
  {
   "cell_type": "markdown",
   "metadata": {},
   "source": [
    "# Main dataset Exploration"
   ]
  },
  {
   "cell_type": "markdown",
   "metadata": {},
   "source": [
    "## first overview"
   ]
  },
  {
   "cell_type": "code",
   "execution_count": 79,
   "metadata": {
    "scrolled": false
   },
   "outputs": [
    {
     "data": {
      "text/html": [
       "<div>\n",
       "<style scoped>\n",
       "    .dataframe tbody tr th:only-of-type {\n",
       "        vertical-align: middle;\n",
       "    }\n",
       "\n",
       "    .dataframe tbody tr th {\n",
       "        vertical-align: top;\n",
       "    }\n",
       "\n",
       "    .dataframe thead th {\n",
       "        text-align: right;\n",
       "    }\n",
       "</style>\n",
       "<table border=\"1\" class=\"dataframe\">\n",
       "  <thead>\n",
       "    <tr style=\"text-align: right;\">\n",
       "      <th></th>\n",
       "      <th>trainNumber</th>\n",
       "      <th>departureDate</th>\n",
       "      <th>operatorUICCode</th>\n",
       "      <th>operatorShortCode</th>\n",
       "      <th>trainType</th>\n",
       "      <th>trainCategory</th>\n",
       "      <th>commuterLineID</th>\n",
       "      <th>runningCurrently</th>\n",
       "      <th>cancelled</th>\n",
       "      <th>version</th>\n",
       "      <th>timetableType</th>\n",
       "      <th>timetableAcceptanceDate</th>\n",
       "      <th>timeTableRows</th>\n",
       "    </tr>\n",
       "  </thead>\n",
       "  <tbody>\n",
       "    <tr>\n",
       "      <th>0</th>\n",
       "      <td>1</td>\n",
       "      <td>2022-06-01</td>\n",
       "      <td>10</td>\n",
       "      <td>vr</td>\n",
       "      <td>IC</td>\n",
       "      <td>Long-distance</td>\n",
       "      <td></td>\n",
       "      <td>False</td>\n",
       "      <td>False</td>\n",
       "      <td>283111315232</td>\n",
       "      <td>REGULAR</td>\n",
       "      <td>2022-02-18T09:41:38.000Z</td>\n",
       "      <td>[{'stationShortCode': 'HKI', 'stationUICCode':...</td>\n",
       "    </tr>\n",
       "    <tr>\n",
       "      <th>1</th>\n",
       "      <td>2</td>\n",
       "      <td>2022-06-01</td>\n",
       "      <td>10</td>\n",
       "      <td>vr</td>\n",
       "      <td>S</td>\n",
       "      <td>Long-distance</td>\n",
       "      <td></td>\n",
       "      <td>False</td>\n",
       "      <td>False</td>\n",
       "      <td>282814461724</td>\n",
       "      <td>REGULAR</td>\n",
       "      <td>2022-02-18T09:41:38.000Z</td>\n",
       "      <td>[{'stationShortCode': 'JNS', 'stationUICCode':...</td>\n",
       "    </tr>\n",
       "    <tr>\n",
       "      <th>2</th>\n",
       "      <td>3</td>\n",
       "      <td>2022-06-01</td>\n",
       "      <td>10</td>\n",
       "      <td>vr</td>\n",
       "      <td>IC</td>\n",
       "      <td>Long-distance</td>\n",
       "      <td></td>\n",
       "      <td>False</td>\n",
       "      <td>False</td>\n",
       "      <td>282815329212</td>\n",
       "      <td>REGULAR</td>\n",
       "      <td>2022-02-18T09:41:38.000Z</td>\n",
       "      <td>[{'stationShortCode': 'HKI', 'stationUICCode':...</td>\n",
       "    </tr>\n",
       "    <tr>\n",
       "      <th>3</th>\n",
       "      <td>4</td>\n",
       "      <td>2022-06-01</td>\n",
       "      <td>10</td>\n",
       "      <td>vr</td>\n",
       "      <td>IC</td>\n",
       "      <td>Long-distance</td>\n",
       "      <td></td>\n",
       "      <td>False</td>\n",
       "      <td>False</td>\n",
       "      <td>282814943768</td>\n",
       "      <td>REGULAR</td>\n",
       "      <td>2022-02-18T09:41:38.000Z</td>\n",
       "      <td>[{'stationShortCode': 'JNS', 'stationUICCode':...</td>\n",
       "    </tr>\n",
       "    <tr>\n",
       "      <th>4</th>\n",
       "      <td>5</td>\n",
       "      <td>2022-06-01</td>\n",
       "      <td>10</td>\n",
       "      <td>vr</td>\n",
       "      <td>IC</td>\n",
       "      <td>Long-distance</td>\n",
       "      <td></td>\n",
       "      <td>False</td>\n",
       "      <td>False</td>\n",
       "      <td>282816498668</td>\n",
       "      <td>REGULAR</td>\n",
       "      <td>2022-02-18T09:41:38.000Z</td>\n",
       "      <td>[{'stationShortCode': 'HKI', 'stationUICCode':...</td>\n",
       "    </tr>\n",
       "  </tbody>\n",
       "</table>\n",
       "</div>"
      ],
      "text/plain": [
       "   trainNumber departureDate  operatorUICCode operatorShortCode trainType  \\\n",
       "0            1    2022-06-01               10                vr        IC   \n",
       "1            2    2022-06-01               10                vr         S   \n",
       "2            3    2022-06-01               10                vr        IC   \n",
       "3            4    2022-06-01               10                vr        IC   \n",
       "4            5    2022-06-01               10                vr        IC   \n",
       "\n",
       "   trainCategory commuterLineID  runningCurrently  cancelled       version  \\\n",
       "0  Long-distance                            False      False  283111315232   \n",
       "1  Long-distance                            False      False  282814461724   \n",
       "2  Long-distance                            False      False  282815329212   \n",
       "3  Long-distance                            False      False  282814943768   \n",
       "4  Long-distance                            False      False  282816498668   \n",
       "\n",
       "  timetableType   timetableAcceptanceDate  \\\n",
       "0       REGULAR  2022-02-18T09:41:38.000Z   \n",
       "1       REGULAR  2022-02-18T09:41:38.000Z   \n",
       "2       REGULAR  2022-02-18T09:41:38.000Z   \n",
       "3       REGULAR  2022-02-18T09:41:38.000Z   \n",
       "4       REGULAR  2022-02-18T09:41:38.000Z   \n",
       "\n",
       "                                       timeTableRows  \n",
       "0  [{'stationShortCode': 'HKI', 'stationUICCode':...  \n",
       "1  [{'stationShortCode': 'JNS', 'stationUICCode':...  \n",
       "2  [{'stationShortCode': 'HKI', 'stationUICCode':...  \n",
       "3  [{'stationShortCode': 'JNS', 'stationUICCode':...  \n",
       "4  [{'stationShortCode': 'HKI', 'stationUICCode':...  "
      ]
     },
     "execution_count": 79,
     "metadata": {},
     "output_type": "execute_result"
    }
   ],
   "source": [
    "df.head()"
   ]
  },
  {
   "cell_type": "markdown",
   "metadata": {},
   "source": [
    "#### Small explanation of each columns\n",
    "\n",
    "I got those information by looking at the metadatas provided in the api or with some vizualisations (I removed the draft versions)\n",
    "\n",
    "- **trainNumber**: The id of the mission conducted. A mission can only happen once a day at most.\n",
    "- **departureDate**: Date of departure (UTC)\n",
    "- **operatorUICCode**: Each train operator has a unique UICCode. This column gives the same information as \"operatorShortCode\"\n",
    "- **operatorShortCode**: Name of each train operator. \n",
    "- **trainType**: indicates precisely the type of the train (ex: IC,S,MV...). Several \"trainType\" can be contained in th same \"trainCategory\" (HL,HV and HLV are all mentionned as \"Commuter\" )\n",
    "- **trainCategory**: more general indication of the train type ( ex: Shunting,Long-distance\t...)\n",
    "- **commuterLineID**: indicates the line id  in which commuter trains stop. Is empty if train is not a commuter\n",
    "- **runningCurrently**: probably not relevant as we are looking at old datas even though this boolean is sometimes equal to true\n",
    "- **cancelled**: was the train cancelled?\n",
    "- **version**: Version number when the train was last changed\n",
    "- **timetableType**: Is it a regular train or does it have a specific goal? Note that a mission doesn't necessarly have always the same timetableType. an ADHOC mission can also appear more than once\n",
    "- **timetableAcceptanceDate**: The moment when the schedule of the train has been approved by the authority. (UTC)\n",
    "- **timeTableRows**: List of information on all train stops. We will go deeper on this columns as it contains other relevant datas\n"
   ]
  },
  {
   "cell_type": "code",
   "execution_count": 6,
   "metadata": {},
   "outputs": [
    {
     "data": {
      "text/plain": [
       "(49886, 13)"
      ]
     },
     "execution_count": 6,
     "metadata": {},
     "output_type": "execute_result"
    }
   ],
   "source": [
    "df.shape"
   ]
  },
  {
   "cell_type": "code",
   "execution_count": 90,
   "metadata": {
    "scrolled": true
   },
   "outputs": [
    {
     "data": {
      "text/plain": [
       "trainNumber                              int64\n",
       "departureDate                   datetime64[ns]\n",
       "operatorUICCode                          int64\n",
       "operatorShortCode                       object\n",
       "trainType                               object\n",
       "trainCategory                           object\n",
       "commuterLineID                          object\n",
       "runningCurrently                          bool\n",
       "cancelled                                 bool\n",
       "version                                  int64\n",
       "timetableType                           object\n",
       "timetableAcceptanceDate    datetime64[ns, UTC]\n",
       "timeTableRows                           object\n",
       "dtype: object"
      ]
     },
     "execution_count": 90,
     "metadata": {},
     "output_type": "execute_result"
    }
   ],
   "source": [
    "df.dtypes"
   ]
  },
  {
   "cell_type": "code",
   "execution_count": 7,
   "metadata": {},
   "outputs": [],
   "source": [
    "# Convert date columns into datetime types\n",
    "\n",
    "df[\"departureDate\"]=pd.to_datetime(df[\"departureDate\"])\n",
    "df[\"timetableAcceptanceDate\"]=pd.to_datetime(df[\"timetableAcceptanceDate\"])"
   ]
  },
  {
   "cell_type": "code",
   "execution_count": 22,
   "metadata": {
    "scrolled": false
   },
   "outputs": [
    {
     "data": {
      "text/plain": [
       "trainNumber                0.0\n",
       "departureDate              0.0\n",
       "operatorUICCode            0.0\n",
       "operatorShortCode          0.0\n",
       "trainType                  0.0\n",
       "trainCategory              0.0\n",
       "commuterLineID             0.0\n",
       "runningCurrently           0.0\n",
       "cancelled                  0.0\n",
       "version                    0.0\n",
       "timetableType              0.0\n",
       "timetableAcceptanceDate    0.0\n",
       "timeTableRows              0.0\n",
       "dtype: float64"
      ]
     },
     "execution_count": 22,
     "metadata": {},
     "output_type": "execute_result"
    }
   ],
   "source": [
    "# Proportion of NaNs in each columns\n",
    "(df.isna().sum()/df.shape[0]).sort_values(ascending=True)"
   ]
  },
  {
   "cell_type": "markdown",
   "metadata": {},
   "source": [
    "We will look deeper into \"commuterLineID\" as it's seems pretty empty while not having any NaNs"
   ]
  },
  {
   "cell_type": "code",
   "execution_count": 12,
   "metadata": {},
   "outputs": [
    {
     "data": {
      "text/plain": [
       "     24925\n",
       "K     5714\n",
       "A     3117\n",
       "P     2893\n",
       "I     2786\n",
       "R     2461\n",
       "U     1857\n",
       "E     1821\n",
       "Z     1140\n",
       "G      994\n",
       "L      551\n",
       "O      521\n",
       "M      336\n",
       "V      284\n",
       "Y      231\n",
       "T      129\n",
       "X       84\n",
       "D       42\n",
       "Name: commuterLineID, dtype: int64"
      ]
     },
     "execution_count": 12,
     "metadata": {},
     "output_type": "execute_result"
    }
   ],
   "source": [
    "df[\"commuterLineID\"].value_counts()"
   ]
  },
  {
   "cell_type": "markdown",
   "metadata": {},
   "source": [
    "There are indeed, a lot of empty cells, but a good proportion of them is also non-empty"
   ]
  },
  {
   "cell_type": "markdown",
   "metadata": {},
   "source": [
    "## Distribution vizualisation for each columns "
   ]
  },
  {
   "cell_type": "markdown",
   "metadata": {},
   "source": [
    " In order to have a better understanding of our data, we will look at the distribution of each columns with graphs and .value_counts()"
   ]
  },
  {
   "cell_type": "code",
   "execution_count": 4,
   "metadata": {
    "scrolled": true
   },
   "outputs": [
    {
     "name": "stderr",
     "output_type": "stream",
     "text": [
      "C:\\Users\\matth\\anaconda3\\lib\\site-packages\\seaborn\\relational.py:507: MatplotlibDeprecationWarning: Saw kwargs ['c', 'color'] which are all aliases for 'color'.  Kept value from 'color'.  Passing multiple aliases for the same property will raise a TypeError in 3.3.\n",
      "  line, = ax.plot([], [], **kws)\n",
      "C:\\Users\\matth\\anaconda3\\lib\\site-packages\\seaborn\\relational.py:522: MatplotlibDeprecationWarning: Saw kwargs ['c', 'color'] which are all aliases for 'color'.  Kept value from 'color'.  Passing multiple aliases for the same property will raise a TypeError in 3.3.\n",
      "  line, = ax.plot(x, y, **kws)\n",
      "C:\\Users\\matth\\anaconda3\\lib\\site-packages\\seaborn\\_decorators.py:36: FutureWarning: Pass the following variable as a keyword arg: x. From version 0.12, the only valid positional argument will be `data`, and passing other arguments without an explicit keyword will result in an error or misinterpretation.\n",
      "  warnings.warn(\n"
     ]
    },
    {
     "data": {
      "text/plain": [
       "Text(0.5, 1.0, 'Proportion of each train category')"
      ]
     },
     "execution_count": 4,
     "metadata": {},
     "output_type": "execute_result"
    },
    {
     "data": {
      "image/png": "[encoded data removed]",
      "text/plain": [
       "<Figure size 864x1440 with 3 Axes>"
      ]
     },
     "metadata": {
      "needs_background": "light"
     },
     "output_type": "display_data"
    }
   ],
   "source": [
    "fig,ax=plt.subplots(3,figsize=[12,20])\n",
    "\n",
    "sns.lineplot(data=df.groupby(\"departureDate\").count()[\"trainNumber\"],ax=ax[0],c=\"orange\")\n",
    "ax[0].set_title(\"Number of trains each day\",fontsize=20)\n",
    "\n",
    "sns.countplot(df[\"trainType\"],palette=sns.color_palette(\"Set2\"),ax=ax[1])\n",
    "ax[1].set_title(\"Proportion of each train type\",fontsize=20)\n",
    "\n",
    "ax[2].pie(df[\"trainCategory\"].value_counts(),labels=df[\"trainCategory\"].value_counts().index,colors=sns.color_palette(\"Set2\"),autopct='%.0f%%')\n",
    "ax[2].set_title(\"Proportion of each train category\",fontsize=20)\n"
   ]
  },
  {
   "cell_type": "markdown",
   "metadata": {},
   "source": [
    "When we look at the time serie, we can see a weekly seasonnality in the daily number of trains, with also a small exception on the 25 of June, being a holiday in Finland"
   ]
  },
  {
   "cell_type": "markdown",
   "metadata": {},
   "source": [
    "#### Proportion of each train operators"
   ]
  },
  {
   "cell_type": "code",
   "execution_count": 32,
   "metadata": {},
   "outputs": [
    {
     "data": {
      "text/plain": [
       "vr                     0.978571\n",
       "vr-track               0.005833\n",
       "ferfi                  0.003568\n",
       "operail                0.003428\n",
       "destia                 0.002345\n",
       "winco                  0.002025\n",
       "sweco-ir               0.001744\n",
       "lannensatamapalvelu    0.000742\n",
       "kreate-rata            0.000682\n",
       "hvm1009                0.000481\n",
       "sundstroms             0.000341\n",
       "porha                  0.000080\n",
       "hmvy                   0.000080\n",
       "pmry                   0.000080\n",
       "Name: operatorShortCode, dtype: float64"
      ]
     },
     "execution_count": 32,
     "metadata": {},
     "output_type": "execute_result"
    }
   ],
   "source": [
    "df.operatorShortCode.value_counts(normalize=True)"
   ]
  },
  {
   "cell_type": "markdown",
   "metadata": {},
   "source": [
    "#### Proportion of cancelled trains"
   ]
  },
  {
   "cell_type": "code",
   "execution_count": 31,
   "metadata": {
    "scrolled": true
   },
   "outputs": [
    {
     "data": {
      "text/plain": [
       "False    0.921982\n",
       "True     0.078018\n",
       "Name: cancelled, dtype: float64"
      ]
     },
     "execution_count": 31,
     "metadata": {},
     "output_type": "execute_result"
    }
   ],
   "source": [
    "df.cancelled.value_counts(normalize=True)"
   ]
  },
  {
   "cell_type": "markdown",
   "metadata": {},
   "source": [
    "#### Proportion of regular trains and adhoc trains"
   ]
  },
  {
   "cell_type": "code",
   "execution_count": 77,
   "metadata": {
    "scrolled": true
   },
   "outputs": [
    {
     "data": {
      "text/plain": [
       "REGULAR    0.835745\n",
       "ADHOC      0.164255\n",
       "Name: timetableType, dtype: float64"
      ]
     },
     "execution_count": 77,
     "metadata": {},
     "output_type": "execute_result"
    }
   ],
   "source": [
    "df[\"timetableType\"].value_counts(normalize=True)"
   ]
  },
  {
   "cell_type": "markdown",
   "metadata": {},
   "source": [
    "## Deeper Analysis"
   ]
  },
  {
   "cell_type": "markdown",
   "metadata": {},
   "source": [
    "#### Proportion of cancelled trains each days"
   ]
  },
  {
   "cell_type": "markdown",
   "metadata": {},
   "source": [
    "We will express the data in percentage"
   ]
  },
  {
   "cell_type": "code",
   "execution_count": 122,
   "metadata": {
    "scrolled": true
   },
   "outputs": [
    {
     "data": {
      "text/plain": [
       "Text(0.5, 1.0, 'Proportion of cancelled trains each day (%)')"
      ]
     },
     "execution_count": 122,
     "metadata": {},
     "output_type": "execute_result"
    },
    {
     "data": {
      "image/png": "[encoded data removed]",
      "text/plain": [
       "<Figure size 1440x432 with 1 Axes>"
      ]
     },
     "metadata": {
      "needs_background": "light"
     },
     "output_type": "display_data"
    }
   ],
   "source": [
    "fig,ax=plt.subplots(1,figsize=[20,6])\n",
    "cancelled_perday=df[df[\"cancelled\"]==True].groupby(\"departureDate\").count()[\"trainNumber\"]/df.groupby(\"departureDate\").count()[\"trainNumber\"]\n",
    "# distribution of cancelled trainseach days/ distribution of trains each day\n",
    "sns.barplot(x=cancelled_perday.index,y=cancelled_perday,ax=ax)\n",
    "ax.set_xticklabels(ax.get_xticks(), rotation=45)\n",
    "plt.title(\"Proportion of cancelled trains each day (%)\",fontsize=20)"
   ]
  },
  {
   "cell_type": "markdown",
   "metadata": {},
   "source": [
    "The proportion of cancelled trains each day reach between around 6% and 12%, without any particular seasonnality."
   ]
  },
  {
   "cell_type": "markdown",
   "metadata": {},
   "source": [
    "#### Number of regular and adhoc trains each day"
   ]
  },
  {
   "cell_type": "code",
   "execution_count": 68,
   "metadata": {},
   "outputs": [
    {
     "data": {
      "text/plain": [
       "Text(0.5, 1.0, 'Number of regular and adhoc trains each day')"
      ]
     },
     "execution_count": 68,
     "metadata": {},
     "output_type": "execute_result"
    },
    {
     "data": {
      "image/png": "[encoded data removed]",
      "text/plain": [
       "<Figure size 1440x432 with 1 Axes>"
      ]
     },
     "metadata": {
      "needs_background": "light"
     },
     "output_type": "display_data"
    }
   ],
   "source": [
    "plt.figure(figsize=[20,6])\n",
    "sns.lineplot(data=df[df[\"timetableType\"]==\"REGULAR\"].groupby(\"departureDate\").count()[\"trainNumber\"],label=\"REGULAR\")\n",
    "sns.lineplot(data=df[df[\"timetableType\"]==\"ADHOC\"].groupby(\"departureDate\").count()[\"trainNumber\"],label=\"ADHOC\")\n",
    "plt.title(\"Number of regular and adhoc trains each day\",fontsize=20)"
   ]
  },
  {
   "cell_type": "markdown",
   "metadata": {},
   "source": [
    "We notice that there are no visible seasonnalities for the ADHOC missions"
   ]
  },
  {
   "cell_type": "markdown",
   "metadata": {},
   "source": [
    "#### train types in each train categories"
   ]
  },
  {
   "cell_type": "markdown",
   "metadata": {},
   "source": [
    "Here is a table of all train categories corresponding to train types"
   ]
  },
  {
   "cell_type": "code",
   "execution_count": 4,
   "metadata": {},
   "outputs": [
    {
     "data": {
      "text/html": [
       "<div>\n",
       "<style scoped>\n",
       "    .dataframe tbody tr th:only-of-type {\n",
       "        vertical-align: middle;\n",
       "    }\n",
       "\n",
       "    .dataframe tbody tr th {\n",
       "        vertical-align: top;\n",
       "    }\n",
       "\n",
       "    .dataframe thead th {\n",
       "        text-align: right;\n",
       "    }\n",
       "</style>\n",
       "<table border=\"1\" class=\"dataframe\">\n",
       "  <thead>\n",
       "    <tr style=\"text-align: right;\">\n",
       "      <th></th>\n",
       "      <th>name</th>\n",
       "    </tr>\n",
       "    <tr>\n",
       "      <th>trainCategory</th>\n",
       "      <th></th>\n",
       "    </tr>\n",
       "  </thead>\n",
       "  <tbody>\n",
       "    <tr>\n",
       "      <th>{'name': 'Cargo'}</th>\n",
       "      <td>[T, RJ]</td>\n",
       "    </tr>\n",
       "    <tr>\n",
       "      <th>{'name': 'Commuter'}</th>\n",
       "      <td>[HL, HV, HLV]</td>\n",
       "    </tr>\n",
       "    <tr>\n",
       "      <th>{'name': 'Locomotive'}</th>\n",
       "      <td>[VET]</td>\n",
       "    </tr>\n",
       "    <tr>\n",
       "      <th>{'name': 'Long-distance'}</th>\n",
       "      <td>[H, PVS, P, HDM, PVV, S, V, IC2, IC, HSM, AE, ...</td>\n",
       "    </tr>\n",
       "    <tr>\n",
       "      <th>{'name': 'On-track machines'}</th>\n",
       "      <td>[TYO]</td>\n",
       "    </tr>\n",
       "    <tr>\n",
       "      <th>{'name': 'Shunting'}</th>\n",
       "      <td>[PAR, VEV, VLI, W, MUV, SAA, PAI]</td>\n",
       "    </tr>\n",
       "    <tr>\n",
       "      <th>{'name': 'Test drive'}</th>\n",
       "      <td>[LIV]</td>\n",
       "    </tr>\n",
       "  </tbody>\n",
       "</table>\n",
       "</div>"
      ],
      "text/plain": [
       "                                                                            name\n",
       "trainCategory                                                                   \n",
       "{'name': 'Cargo'}                                                        [T, RJ]\n",
       "{'name': 'Commuter'}                                               [HL, HV, HLV]\n",
       "{'name': 'Locomotive'}                                                     [VET]\n",
       "{'name': 'Long-distance'}      [H, PVS, P, HDM, PVV, S, V, IC2, IC, HSM, AE, ...\n",
       "{'name': 'On-track machines'}                                              [TYO]\n",
       "{'name': 'Shunting'}                           [PAR, VEV, VLI, W, MUV, SAA, PAI]\n",
       "{'name': 'Test drive'}                                                     [LIV]"
      ]
     },
     "execution_count": 4,
     "metadata": {},
     "output_type": "execute_result"
    }
   ],
   "source": [
    "types_categories=pd.read_json(requests.get(\"https://rata.digitraffic.fi/api/v1/metadata/train-types\").text)\n",
    "types_categories[\"trainCategory\"]=types_categories[\"trainCategory\"].astype(str)\n",
    "types_categories.groupby(\"trainCategory\").agg(list)"
   ]
  },
  {
   "cell_type": "markdown",
   "metadata": {},
   "source": [
    "#### Proportion of cancelled trains for each category"
   ]
  },
  {
   "cell_type": "code",
   "execution_count": 94,
   "metadata": {
    "scrolled": false
   },
   "outputs": [
    {
     "data": {
      "text/plain": [
       "Text(0.5, 1.0, 'Proportion of cancelled trains for each Category (%)')"
      ]
     },
     "execution_count": 94,
     "metadata": {},
     "output_type": "execute_result"
    },
    {
     "data": {
      "image/png": "[encoded data removed]",
      "text/plain": [
       "<Figure size 1440x432 with 1 Axes>"
      ]
     },
     "metadata": {
      "needs_background": "light"
     },
     "output_type": "display_data"
    }
   ],
   "source": [
    "plt.figure(figsize=[20,6])\n",
    "cancelled_percategory=df[df[\"cancelled\"]==True][\"trainCategory\"].value_counts()/df[\"trainCategory\"].value_counts()\n",
    "\n",
    "sns.barplot(x=cancelled_percategory.index,y=cancelled_percategory,hue=,palette=sns.color_palette(\"flare\"))\n",
    "plt.title(\"Proportion of cancelled trains for each Category (%)\",fontsize=20)"
   ]
  },
  {
   "cell_type": "markdown",
   "metadata": {},
   "source": [
    "Locomotive and Cargo categories are far more inclined to be cancelled than the others"
   ]
  },
  {
   "cell_type": "markdown",
   "metadata": {},
   "source": [
    "#### Proportion of cancelled trains for each trainType"
   ]
  },
  {
   "cell_type": "code",
   "execution_count": 93,
   "metadata": {
    "scrolled": true
   },
   "outputs": [
    {
     "data": {
      "text/plain": [
       "Text(0.5, 1.0, 'Proportion of cancelled trains for each trainType (%)')"
      ]
     },
     "execution_count": 93,
     "metadata": {},
     "output_type": "execute_result"
    },
    {
     "data": {
      "image/png": "[encoded data removed]",
      "text/plain": [
       "<Figure size 1440x432 with 1 Axes>"
      ]
     },
     "metadata": {
      "needs_background": "light"
     },
     "output_type": "display_data"
    }
   ],
   "source": [
    "plt.figure(figsize=[20,6])\n",
    "cancelled_percategory=df[df[\"cancelled\"]==True][\"trainType\"].value_counts()/df[\"trainType\"].value_counts()\n",
    "\n",
    "sns.barplot(x=cancelled_percategory.index,y=cancelled_percategory)\n",
    "plt.title(\"Proportion of cancelled trains for each trainType (%)\",fontsize=20)"
   ]
  },
  {
   "cell_type": "markdown",
   "metadata": {},
   "source": [
    "We find the same proportion of cancelled VET as for locomotives because all locomotives are VET. More intriguing is the fact that 25% of VEV and 20% of PAI are cancelled while only 5% of Shuntings are (VEV and PAI are train types of Shunting).\n",
    "The same goes for MUS and MV which are both long-distance (2% cancelled) while having around 15% of cancelling."
   ]
  },
  {
   "cell_type": "markdown",
   "metadata": {},
   "source": [
    "#### Number of each timetableType for each Category"
   ]
  },
  {
   "cell_type": "code",
   "execution_count": 21,
   "metadata": {
    "scrolled": true
   },
   "outputs": [
    {
     "name": "stderr",
     "output_type": "stream",
     "text": [
      "C:\\Users\\matth\\anaconda3\\lib\\site-packages\\seaborn\\_decorators.py:36: FutureWarning: Pass the following variable as a keyword arg: x. From version 0.12, the only valid positional argument will be `data`, and passing other arguments without an explicit keyword will result in an error or misinterpretation.\n",
      "  warnings.warn(\n"
     ]
    },
    {
     "data": {
      "text/plain": [
       "Text(0.5, 1.0, 'Number of each timetableType for each Category')"
      ]
     },
     "execution_count": 21,
     "metadata": {},
     "output_type": "execute_result"
    },
    {
     "data": {
      "image/png": "[encoded data removed]",
      "text/plain": [
       "<Figure size 1440x432 with 1 Axes>"
      ]
     },
     "metadata": {
      "needs_background": "light"
     },
     "output_type": "display_data"
    }
   ],
   "source": [
    "plt.figure(figsize=[20,6])\n",
    "sns.countplot(df[\"trainCategory\"],hue=df[\"timetableType\"])\n",
    "plt.title(\"Number of each timetableType for each Category\",fontsize=20)"
   ]
  },
  {
   "cell_type": "markdown",
   "metadata": {},
   "source": [
    "# TimeTableRows column Analysis"
   ]
  },
  {
   "cell_type": "markdown",
   "metadata": {},
   "source": [
    "## Data extraction from timeTableRows"
   ]
  },
  {
   "cell_type": "code",
   "execution_count": 9,
   "metadata": {},
   "outputs": [],
   "source": [
    "# Function to convert the list contained in each cells of the column \"timetablerows\" into a dataframe\n",
    "def timetablerows_todataframe(timetablerows):\n",
    "    values={}\n",
    "    columns=timetablerows[0].keys()\n",
    "    for key in columns:\n",
    "        for elem in timetablerows:\n",
    "            if key not in values.keys():\n",
    "                values[key]=[elem[key]]\n",
    "            elif key not in elem.keys():\n",
    "                values[key].append(np.nan)\n",
    "            else:values[key].append(elem[key])\n",
    "    return pd.DataFrame(values) \n"
   ]
  },
  {
   "cell_type": "code",
   "execution_count": 10,
   "metadata": {},
   "outputs": [],
   "source": [
    "#Need around 15 minutes to execute in my pc (8 GB RAM)\n",
    "\n",
    "alljourney=[timetablerows_todataframe(df.loc[i,\"timeTableRows\"]) for i in range(len(df))]\n",
    "# Convert to timetable all \"timetablerows\" cells\n",
    "\n",
    "for i in range(len(alljourney)):\n",
    "    for j in range(len(alljourney[i])):\n",
    "        if str(alljourney[i].loc[j,\"causes\"])!=\"[]\" :\n",
    "             alljourney[i].loc[j,\"categoryCode\"]=alljourney[i].loc[j,\"causes\"][0][\"categoryCode\"]\n",
    "             \n",
    "        else : alljourney[i].loc[j,\"categoryCode\"]=np.nan\n",
    "# We create a new column \"categoryCode\" which is the code of all potential incidents for each dataset from alljourney        \n",
    "        \n",
    "df_alljourney=pd.concat(alljourney).reset_index(drop=True)  \n",
    "\n",
    "# It will be sometimes more convenient to use alljourney and not df_alljourney, as it offers a separation \n",
    "#between all the missions"
   ]
  },
  {
   "cell_type": "markdown",
   "metadata": {},
   "source": [
    "**A posteriori I think that it would have been also very useful to create a unique ID column for each entry of the main dataset  (trainNumber\t+ day of departure for instance) and to link it to the subset of df_alljourney that concerns this entry. It would have allowed me to analyse more easily both datasets without writting huge chunks of code.**"
   ]
  },
  {
   "cell_type": "markdown",
   "metadata": {},
   "source": [
    "#### Small explanation of each columns\n",
    "\n",
    "The dataset repertoriate all train stops for all missions in June (arrivals and departures)\n",
    "\n",
    "- **stationShortCode:**\tTraffic Location Abbreviation\t\t\t\t\t\t\t\t\t\t\t\t\n",
    "- **stationUICCode:** ID of the station (equivalent to stationShortCode)\n",
    "- **countryCode:** Country where the station is located\n",
    "- **type:** ARRIVAL or DEPARTURE\n",
    "- **trainStopping:** is the trains stopping at ths station or is it just passing through?\n",
    "- **commercialStop:** Is a stop commercial. Given only for stops, not drive-throughs.\n",
    "- **commercialTrack:** The planned track number at which the train stops or departs. The track code will not be available for trains that still have more than 10 days to depart. In case of operational disruptions, the track may be different.\n",
    "- **cancelled:** was the train cancelled?\n",
    "- **scheduledTime:** scheduled stop or departure time\n",
    "- **actualTime:** real time of arrival/departure\n",
    "- **differenceInMinutes:** difference between scheduled time and actual time ( or liveEstimateTime)\n",
    "- **causes:** causes of the incidents\n",
    "- **trainNumber:** id of the mission ( same as the df dataset)\n",
    "- **trainReady:**  Train ready to go. The operator must notify the traffic controller of readiness to take off whenever the train changes its configuration or leaves its first stop\n",
    "- **liveEstimateTime:** datetime Forecast. Empty if the train is not on its way\n",
    "- **estimateSource:** Forecast source\n"
   ]
  },
  {
   "cell_type": "markdown",
   "metadata": {},
   "source": [
    "## First overview"
   ]
  },
  {
   "cell_type": "code",
   "execution_count": 36,
   "metadata": {
    "scrolled": true
   },
   "outputs": [
    {
     "data": {
      "text/html": [
       "<div>\n",
       "<style scoped>\n",
       "    .dataframe tbody tr th:only-of-type {\n",
       "        vertical-align: middle;\n",
       "    }\n",
       "\n",
       "    .dataframe tbody tr th {\n",
       "        vertical-align: top;\n",
       "    }\n",
       "\n",
       "    .dataframe thead th {\n",
       "        text-align: right;\n",
       "    }\n",
       "</style>\n",
       "<table border=\"1\" class=\"dataframe\">\n",
       "  <thead>\n",
       "    <tr style=\"text-align: right;\">\n",
       "      <th></th>\n",
       "      <th>stationShortCode</th>\n",
       "      <th>stationUICCode</th>\n",
       "      <th>countryCode</th>\n",
       "      <th>type</th>\n",
       "      <th>trainStopping</th>\n",
       "      <th>commercialStop</th>\n",
       "      <th>commercialTrack</th>\n",
       "      <th>cancelled</th>\n",
       "      <th>scheduledTime</th>\n",
       "      <th>actualTime</th>\n",
       "      <th>differenceInMinutes</th>\n",
       "      <th>causes</th>\n",
       "      <th>trainNumber</th>\n",
       "      <th>trainReady</th>\n",
       "      <th>categoryCode</th>\n",
       "      <th>liveEstimateTime</th>\n",
       "      <th>estimateSource</th>\n",
       "    </tr>\n",
       "  </thead>\n",
       "  <tbody>\n",
       "    <tr>\n",
       "      <th>0</th>\n",
       "      <td>HKI</td>\n",
       "      <td>1</td>\n",
       "      <td>FI</td>\n",
       "      <td>DEPARTURE</td>\n",
       "      <td>True</td>\n",
       "      <td>True</td>\n",
       "      <td>10</td>\n",
       "      <td>False</td>\n",
       "      <td>2022-06-01T03:57:00.000Z</td>\n",
       "      <td>2022-06-01T03:57:26.000Z</td>\n",
       "      <td>0.0</td>\n",
       "      <td>[]</td>\n",
       "      <td>1</td>\n",
       "      <td>{'source': 'KUPLA', 'accepted': True, 'timesta...</td>\n",
       "      <td>NaN</td>\n",
       "      <td>NaN</td>\n",
       "      <td>NaN</td>\n",
       "    </tr>\n",
       "    <tr>\n",
       "      <th>1</th>\n",
       "      <td>PSL</td>\n",
       "      <td>10</td>\n",
       "      <td>FI</td>\n",
       "      <td>ARRIVAL</td>\n",
       "      <td>True</td>\n",
       "      <td>True</td>\n",
       "      <td>4</td>\n",
       "      <td>False</td>\n",
       "      <td>2022-06-01T04:02:00.000Z</td>\n",
       "      <td>2022-06-01T04:02:08.000Z</td>\n",
       "      <td>0.0</td>\n",
       "      <td>[]</td>\n",
       "      <td>1</td>\n",
       "      <td>NaN</td>\n",
       "      <td>NaN</td>\n",
       "      <td>NaN</td>\n",
       "      <td>NaN</td>\n",
       "    </tr>\n",
       "    <tr>\n",
       "      <th>2</th>\n",
       "      <td>PSL</td>\n",
       "      <td>10</td>\n",
       "      <td>FI</td>\n",
       "      <td>DEPARTURE</td>\n",
       "      <td>True</td>\n",
       "      <td>True</td>\n",
       "      <td>4</td>\n",
       "      <td>False</td>\n",
       "      <td>2022-06-01T04:03:00.000Z</td>\n",
       "      <td>2022-06-01T04:04:14.000Z</td>\n",
       "      <td>1.0</td>\n",
       "      <td>[]</td>\n",
       "      <td>1</td>\n",
       "      <td>NaN</td>\n",
       "      <td>NaN</td>\n",
       "      <td>NaN</td>\n",
       "      <td>NaN</td>\n",
       "    </tr>\n",
       "    <tr>\n",
       "      <th>3</th>\n",
       "      <td>KÄP</td>\n",
       "      <td>977</td>\n",
       "      <td>FI</td>\n",
       "      <td>ARRIVAL</td>\n",
       "      <td>False</td>\n",
       "      <td>NaN</td>\n",
       "      <td></td>\n",
       "      <td>False</td>\n",
       "      <td>2022-06-01T04:05:00.000Z</td>\n",
       "      <td>2022-06-01T04:06:22.000Z</td>\n",
       "      <td>1.0</td>\n",
       "      <td>[]</td>\n",
       "      <td>1</td>\n",
       "      <td>NaN</td>\n",
       "      <td>NaN</td>\n",
       "      <td>NaN</td>\n",
       "      <td>NaN</td>\n",
       "    </tr>\n",
       "    <tr>\n",
       "      <th>4</th>\n",
       "      <td>KÄP</td>\n",
       "      <td>977</td>\n",
       "      <td>FI</td>\n",
       "      <td>DEPARTURE</td>\n",
       "      <td>False</td>\n",
       "      <td>NaN</td>\n",
       "      <td></td>\n",
       "      <td>False</td>\n",
       "      <td>2022-06-01T04:05:00.000Z</td>\n",
       "      <td>2022-06-01T04:06:22.000Z</td>\n",
       "      <td>1.0</td>\n",
       "      <td>[]</td>\n",
       "      <td>1</td>\n",
       "      <td>NaN</td>\n",
       "      <td>NaN</td>\n",
       "      <td>NaN</td>\n",
       "      <td>NaN</td>\n",
       "    </tr>\n",
       "  </tbody>\n",
       "</table>\n",
       "</div>"
      ],
      "text/plain": [
       "  stationShortCode  stationUICCode countryCode       type  trainStopping  \\\n",
       "0              HKI               1          FI  DEPARTURE           True   \n",
       "1              PSL              10          FI    ARRIVAL           True   \n",
       "2              PSL              10          FI  DEPARTURE           True   \n",
       "3              KÄP             977          FI    ARRIVAL          False   \n",
       "4              KÄP             977          FI  DEPARTURE          False   \n",
       "\n",
       "  commercialStop commercialTrack  cancelled             scheduledTime  \\\n",
       "0           True              10      False  2022-06-01T03:57:00.000Z   \n",
       "1           True               4      False  2022-06-01T04:02:00.000Z   \n",
       "2           True               4      False  2022-06-01T04:03:00.000Z   \n",
       "3            NaN                      False  2022-06-01T04:05:00.000Z   \n",
       "4            NaN                      False  2022-06-01T04:05:00.000Z   \n",
       "\n",
       "                 actualTime  differenceInMinutes causes  trainNumber  \\\n",
       "0  2022-06-01T03:57:26.000Z                  0.0     []            1   \n",
       "1  2022-06-01T04:02:08.000Z                  0.0     []            1   \n",
       "2  2022-06-01T04:04:14.000Z                  1.0     []            1   \n",
       "3  2022-06-01T04:06:22.000Z                  1.0     []            1   \n",
       "4  2022-06-01T04:06:22.000Z                  1.0     []            1   \n",
       "\n",
       "                                          trainReady categoryCode  \\\n",
       "0  {'source': 'KUPLA', 'accepted': True, 'timesta...          NaN   \n",
       "1                                                NaN          NaN   \n",
       "2                                                NaN          NaN   \n",
       "3                                                NaN          NaN   \n",
       "4                                                NaN          NaN   \n",
       "\n",
       "  liveEstimateTime estimateSource  \n",
       "0              NaN            NaN  \n",
       "1              NaN            NaN  \n",
       "2              NaN            NaN  \n",
       "3              NaN            NaN  \n",
       "4              NaN            NaN  "
      ]
     },
     "execution_count": 36,
     "metadata": {},
     "output_type": "execute_result"
    }
   ],
   "source": [
    "df_alljourney.head()"
   ]
  },
  {
   "cell_type": "code",
   "execution_count": 19,
   "metadata": {},
   "outputs": [
    {
     "data": {
      "text/plain": [
       "(1880230, 16)"
      ]
     },
     "execution_count": 19,
     "metadata": {},
     "output_type": "execute_result"
    }
   ],
   "source": [
    "df_alljourney.shape"
   ]
  },
  {
   "cell_type": "code",
   "execution_count": 55,
   "metadata": {
    "scrolled": true
   },
   "outputs": [
    {
     "data": {
      "text/plain": [
       "stationShortCode                    object\n",
       "stationUICCode                       int64\n",
       "countryCode                         object\n",
       "type                                object\n",
       "trainStopping                         bool\n",
       "commercialStop                      object\n",
       "commercialTrack                     object\n",
       "cancelled                             bool\n",
       "scheduledTime          datetime64[ns, UTC]\n",
       "actualTime             datetime64[ns, UTC]\n",
       "differenceInMinutes                float64\n",
       "causes                              object\n",
       "trainNumber                          int64\n",
       "trainReady                          object\n",
       "liveEstimateTime                    object\n",
       "estimateSource                      object\n",
       "dtype: object"
      ]
     },
     "execution_count": 55,
     "metadata": {},
     "output_type": "execute_result"
    }
   ],
   "source": [
    "df_alljourney.dtypes"
   ]
  },
  {
   "cell_type": "code",
   "execution_count": 12,
   "metadata": {},
   "outputs": [],
   "source": [
    "df_alljourney[\"scheduledTime\"]=pd.to_datetime(df_alljourney[\"scheduledTime\"])\n",
    "df_alljourney[\"actualTime\"]=pd.to_datetime(df_alljourney[\"actualTime\"])"
   ]
  },
  {
   "cell_type": "code",
   "execution_count": 163,
   "metadata": {},
   "outputs": [
    {
     "data": {
      "text/plain": [
       "stationShortCode       0.000000\n",
       "stationUICCode         0.000000\n",
       "countryCode            0.000000\n",
       "type                   0.000000\n",
       "trainStopping          0.000000\n",
       "commercialTrack        0.000000\n",
       "cancelled              0.000000\n",
       "scheduledTime          0.000000\n",
       "causes                 0.000000\n",
       "trainNumber            0.000000\n",
       "differenceInMinutes    0.059199\n",
       "actualTime             0.111345\n",
       "commercialStop         0.526309\n",
       "trainReady             0.978230\n",
       "liveEstimateTime       0.984123\n",
       "estimateSource         0.984123\n",
       "dtype: float64"
      ]
     },
     "execution_count": 163,
     "metadata": {},
     "output_type": "execute_result"
    }
   ],
   "source": [
    "(df_alljourney.isna().sum()/df_alljourney.shape[0]).sort_values(ascending=True)"
   ]
  },
  {
   "cell_type": "markdown",
   "metadata": {},
   "source": [
    "## Distribution vizualisation of each column"
   ]
  },
  {
   "cell_type": "code",
   "execution_count": 6,
   "metadata": {
    "scrolled": false
   },
   "outputs": [
    {
     "data": {
      "text/plain": [
       "PSL    70305\n",
       "PMK    35427\n",
       "OLK    35425\n",
       "ML     35422\n",
       "TNA    35416\n",
       "       ...  \n",
       "AJO        2\n",
       "OTM        2\n",
       "KLA        2\n",
       "TRR        2\n",
       "RÖY        2\n",
       "Name: stationShortCode, Length: 528, dtype: int64"
      ]
     },
     "execution_count": 6,
     "metadata": {},
     "output_type": "execute_result"
    }
   ],
   "source": [
    "# Keep in mind that there is a row for both arrivals and departures in/from the same station. \n",
    "# So in some way, we need to divide all values by 2 to get the number of each station occurence. But we\n",
    "# also need to take into acocunt that there is always a first departure and a final arrival. \n",
    "#So stations do not always come by pair of arrival/departures\n",
    "df_alljourney[\"stationShortCode\"].value_counts()"
   ]
  },
  {
   "cell_type": "code",
   "execution_count": 166,
   "metadata": {
    "scrolled": true
   },
   "outputs": [
    {
     "data": {
      "text/plain": [
       "FI    1878866\n",
       "RU       1364\n",
       "Name: countryCode, dtype: int64"
      ]
     },
     "execution_count": 166,
     "metadata": {},
     "output_type": "execute_result"
    }
   ],
   "source": [
    "df_alljourney[\"countryCode\"].value_counts()"
   ]
  },
  {
   "cell_type": "code",
   "execution_count": 168,
   "metadata": {},
   "outputs": [
    {
     "data": {
      "text/plain": [
       "False    989582\n",
       "True     890648\n",
       "Name: trainStopping, dtype: int64"
      ]
     },
     "execution_count": 168,
     "metadata": {},
     "output_type": "execute_result"
    }
   ],
   "source": [
    "df_alljourney[\"trainStopping\"].value_counts()"
   ]
  },
  {
   "cell_type": "code",
   "execution_count": 8,
   "metadata": {},
   "outputs": [
    {
     "data": {
      "text/plain": [
       "NaN      989582\n",
       "True     853906\n",
       "False     36742\n",
       "Name: commercialStop, dtype: int64"
      ]
     },
     "execution_count": 8,
     "metadata": {},
     "output_type": "execute_result"
    }
   ],
   "source": [
    "df_alljourney[\"commercialStop\"].value_counts(dropna=False)"
   ]
  },
  {
   "cell_type": "markdown",
   "metadata": {},
   "source": [
    "A NaN represent a train that drive through the station."
   ]
  },
  {
   "cell_type": "markdown",
   "metadata": {},
   "source": [
    "#### Distribution of causes"
   ]
  },
  {
   "cell_type": "code",
   "execution_count": 7,
   "metadata": {
    "scrolled": true
   },
   "outputs": [
    {
     "data": {
      "text/html": [
       "<div>\n",
       "<style scoped>\n",
       "    .dataframe tbody tr th:only-of-type {\n",
       "        vertical-align: middle;\n",
       "    }\n",
       "\n",
       "    .dataframe tbody tr th {\n",
       "        vertical-align: top;\n",
       "    }\n",
       "\n",
       "    .dataframe thead th {\n",
       "        text-align: right;\n",
       "    }\n",
       "</style>\n",
       "<table border=\"1\" class=\"dataframe\">\n",
       "  <thead>\n",
       "    <tr style=\"text-align: right;\">\n",
       "      <th></th>\n",
       "      <th>categoryCode</th>\n",
       "      <th>categoryName</th>\n",
       "      <th>validFrom</th>\n",
       "      <th>id</th>\n",
       "    </tr>\n",
       "  </thead>\n",
       "  <tbody>\n",
       "    <tr>\n",
       "      <th>0</th>\n",
       "      <td>A</td>\n",
       "      <td>Timetable and traffic</td>\n",
       "      <td>2017-01-01</td>\n",
       "      <td>318834762</td>\n",
       "    </tr>\n",
       "    <tr>\n",
       "      <th>1</th>\n",
       "      <td>E</td>\n",
       "      <td>Ahead of Time</td>\n",
       "      <td>2017-01-01</td>\n",
       "      <td>335611978</td>\n",
       "    </tr>\n",
       "    <tr>\n",
       "      <th>2</th>\n",
       "      <td>H</td>\n",
       "      <td>Staff</td>\n",
       "      <td>2017-01-01</td>\n",
       "      <td>251725898</td>\n",
       "    </tr>\n",
       "    <tr>\n",
       "      <th>3</th>\n",
       "      <td>I</td>\n",
       "      <td>Other reasons</td>\n",
       "      <td>2017-01-01</td>\n",
       "      <td>469829706</td>\n",
       "    </tr>\n",
       "    <tr>\n",
       "      <th>4</th>\n",
       "      <td>J</td>\n",
       "      <td>Train formation delay</td>\n",
       "      <td>2019-09-01</td>\n",
       "      <td>268503114</td>\n",
       "    </tr>\n",
       "    <tr>\n",
       "      <th>5</th>\n",
       "      <td>K</td>\n",
       "      <td>Stock, motor trains and wagons</td>\n",
       "      <td>2017-01-01</td>\n",
       "      <td>285280330</td>\n",
       "    </tr>\n",
       "    <tr>\n",
       "      <th>6</th>\n",
       "      <td>L</td>\n",
       "      <td>Traffic management</td>\n",
       "      <td>2017-01-01</td>\n",
       "      <td>352389194</td>\n",
       "    </tr>\n",
       "    <tr>\n",
       "      <th>7</th>\n",
       "      <td>M</td>\n",
       "      <td>Passenger service</td>\n",
       "      <td>2017-01-01</td>\n",
       "      <td>453052490</td>\n",
       "    </tr>\n",
       "    <tr>\n",
       "      <th>8</th>\n",
       "      <td>O</td>\n",
       "      <td>Accident</td>\n",
       "      <td>2017-01-01</td>\n",
       "      <td>436275274</td>\n",
       "    </tr>\n",
       "    <tr>\n",
       "      <th>9</th>\n",
       "      <td>P</td>\n",
       "      <td>Traffic management systems</td>\n",
       "      <td>2017-01-01</td>\n",
       "      <td>369166410</td>\n",
       "    </tr>\n",
       "    <tr>\n",
       "      <th>10</th>\n",
       "      <td>R</td>\n",
       "      <td>Railway work</td>\n",
       "      <td>2017-01-01</td>\n",
       "      <td>419498058</td>\n",
       "    </tr>\n",
       "    <tr>\n",
       "      <th>11</th>\n",
       "      <td>S</td>\n",
       "      <td>Electric Railway</td>\n",
       "      <td>2017-01-01</td>\n",
       "      <td>385943626</td>\n",
       "    </tr>\n",
       "    <tr>\n",
       "      <th>12</th>\n",
       "      <td>T</td>\n",
       "      <td>Track (track structure)</td>\n",
       "      <td>2017-01-01</td>\n",
       "      <td>402720842</td>\n",
       "    </tr>\n",
       "    <tr>\n",
       "      <th>13</th>\n",
       "      <td>V</td>\n",
       "      <td>Tractor</td>\n",
       "      <td>2017-01-01</td>\n",
       "      <td>302057546</td>\n",
       "    </tr>\n",
       "    <tr>\n",
       "      <th>14</th>\n",
       "      <td>X</td>\n",
       "      <td>Reasons to be reported to the Rail Traffic Center</td>\n",
       "      <td>2017-07-01</td>\n",
       "      <td>486606922</td>\n",
       "    </tr>\n",
       "  </tbody>\n",
       "</table>\n",
       "</div>"
      ],
      "text/plain": [
       "   categoryCode                                       categoryName  \\\n",
       "0             A                              Timetable and traffic   \n",
       "1             E                                      Ahead of Time   \n",
       "2             H                                              Staff   \n",
       "3             I                                      Other reasons   \n",
       "4             J                              Train formation delay   \n",
       "5             K                     Stock, motor trains and wagons   \n",
       "6             L                                 Traffic management   \n",
       "7             M                                  Passenger service   \n",
       "8             O                                           Accident   \n",
       "9             P                         Traffic management systems   \n",
       "10            R                                       Railway work   \n",
       "11            S                                   Electric Railway   \n",
       "12            T                            Track (track structure)   \n",
       "13            V                                            Tractor   \n",
       "14            X  Reasons to be reported to the Rail Traffic Center   \n",
       "\n",
       "     validFrom         id  \n",
       "0   2017-01-01  318834762  \n",
       "1   2017-01-01  335611978  \n",
       "2   2017-01-01  251725898  \n",
       "3   2017-01-01  469829706  \n",
       "4   2019-09-01  268503114  \n",
       "5   2017-01-01  285280330  \n",
       "6   2017-01-01  352389194  \n",
       "7   2017-01-01  453052490  \n",
       "8   2017-01-01  436275274  \n",
       "9   2017-01-01  369166410  \n",
       "10  2017-01-01  419498058  \n",
       "11  2017-01-01  385943626  \n",
       "12  2017-01-01  402720842  \n",
       "13  2017-01-01  302057546  \n",
       "14  2017-07-01  486606922  "
      ]
     },
     "execution_count": 7,
     "metadata": {},
     "output_type": "execute_result"
    }
   ],
   "source": [
    "#Translated version of the category name of each incident associated with all category code\n",
    "\n",
    "dataset=pd.read_json(requests.get(\"https://rata.digitraffic.fi/api/v1/metadata/cause-category-codes\").text)\n",
    "dataset[\"categoryName\"]=['Timetable and traffic',\n",
    "  'Ahead of Time',\n",
    "  'Staff',\n",
    "  'Other reasons',\n",
    "  'Train formation delay',\n",
    "  'Stock, motor trains and wagons',\n",
    "  'Traffic management',\n",
    "  'Passenger service',\n",
    "  'Accident',\n",
    "  'Traffic management systems',\n",
    "  'Railway work',\n",
    "  'Electric Railway',\n",
    "  'Track (track structure)',\n",
    "  'Tractor',\n",
    "  'Reasons to be reported to the Rail Traffic Center']\n",
    "\n",
    "dataset"
   ]
  },
  {
   "cell_type": "code",
   "execution_count": 35,
   "metadata": {
    "scrolled": true
   },
   "outputs": [
    {
     "data": {
      "text/plain": [
       "E    5058\n",
       "L    4214\n",
       "M    1835\n",
       "P    1429\n",
       "J     897\n",
       "T     833\n",
       "R     454\n",
       "S     361\n",
       "A     332\n",
       "K     239\n",
       "V     229\n",
       "I     176\n",
       "O      17\n",
       "dtype: int64"
      ]
     },
     "execution_count": 35,
     "metadata": {},
     "output_type": "execute_result"
    }
   ],
   "source": [
    "#For each mission, I counted distinct incidents only once, even if one incident appears more \n",
    "#(to not increase incidents that happened during missions with several station driven through,\n",
    "#as it is sometimes mentionned for all stations)\n",
    "\n",
    "# Note also that there are a lot of rows without incidents or without mentionned causes,\n",
    "#so the analysis of causes is not completely representative of all incidents\n",
    "\n",
    "causes=[]\n",
    "value_count=[]\n",
    "for i in range(len(alljourney)):\n",
    "    causes.append(list(alljourney[i].categoryCode.value_counts().index))\n",
    "for i in range(len(causes)):\n",
    "    value_count+=causes[i]\n",
    "pd.Series(value_count).value_counts()"
   ]
  },
  {
   "cell_type": "markdown",
   "metadata": {},
   "source": [
    "#### early and late trains"
   ]
  },
  {
   "cell_type": "markdown",
   "metadata": {},
   "source": [
    "The data is very scattered, so we will represent it using a histogramm zoomed on the center of distribution, and a boxenplot that would allow us to see outliers "
   ]
  },
  {
   "cell_type": "code",
   "execution_count": 7,
   "metadata": {
    "scrolled": true
   },
   "outputs": [
    {
     "name": "stderr",
     "output_type": "stream",
     "text": [
      "C:\\Users\\matth\\anaconda3\\lib\\site-packages\\seaborn\\_decorators.py:36: FutureWarning: Pass the following variable as a keyword arg: x. From version 0.12, the only valid positional argument will be `data`, and passing other arguments without an explicit keyword will result in an error or misinterpretation.\n",
      "  warnings.warn(\n"
     ]
    },
    {
     "data": {
      "text/plain": [
       "Text(0.5, 1.0, 'Boxenplot of all train delays')"
      ]
     },
     "execution_count": 7,
     "metadata": {},
     "output_type": "execute_result"
    },
    {
     "data": {
      "image/png": "[encoded data removed]",
      "text/plain": [
       "<Figure size 1152x864 with 2 Axes>"
      ]
     },
     "metadata": {
      "needs_background": "light"
     },
     "output_type": "display_data"
    }
   ],
   "source": [
    "fig,ax=plt.subplots(2,figsize=[16,12])\n",
    "\n",
    "ax[0].hist(df_alljourney.differenceInMinutes,bins=int(max(df_alljourney.differenceInMinutes)-min(df_alljourney.differenceInMinutes)))\n",
    "ax[0].set_xticks(np.arange(min(df_alljourney.differenceInMinutes), max(df_alljourney.differenceInMinutes),2))\n",
    "ax[0].set_xlim(left=-20,right=20)\n",
    "ax[0].set_title(\"Distribution of all train delays (zoom between -20 and 20 minutes)\",fontsize=20)\n",
    "\n",
    "sns.boxenplot(df_alljourney.differenceInMinutes,ax=ax[1])\n",
    "ax[1].set_title(\"Boxenplot of all train delays\",fontsize=20)"
   ]
  },
  {
   "cell_type": "markdown",
   "metadata": {},
   "source": [
    "A large majority of the trains arrive a few minutes late or advance. But there are also a lot of more significants gap between the schedule and the real time."
   ]
  },
  {
   "cell_type": "markdown",
   "metadata": {},
   "source": [
    "#### number of trains arriving at a station each hours (sum of all the month)"
   ]
  },
  {
   "cell_type": "code",
   "execution_count": 57,
   "metadata": {
    "scrolled": true
   },
   "outputs": [
    {
     "name": "stderr",
     "output_type": "stream",
     "text": [
      "C:\\Users\\matth\\anaconda3\\lib\\site-packages\\seaborn\\_decorators.py:36: FutureWarning: Pass the following variable as a keyword arg: x. From version 0.12, the only valid positional argument will be `data`, and passing other arguments without an explicit keyword will result in an error or misinterpretation.\n",
      "  warnings.warn(\n"
     ]
    },
    {
     "data": {
      "text/plain": [
       "<matplotlib.axes._subplots.AxesSubplot at 0x1d3ca28b490>"
      ]
     },
     "execution_count": 57,
     "metadata": {},
     "output_type": "execute_result"
    },
    {
     "data": {
      "image/png": "[encoded data removed]",
      "text/plain": [
       "<Figure size 432x288 with 1 Axes>"
      ]
     },
     "metadata": {
      "needs_background": "light"
     },
     "output_type": "display_data"
    }
   ],
   "source": [
    "sns.countplot(df_alljourney.scheduledTime.dt.hour)"
   ]
  },
  {
   "cell_type": "markdown",
   "metadata": {},
   "source": [
    "# Anomaly Detection and Analysis"
   ]
  },
  {
   "cell_type": "markdown",
   "metadata": {},
   "source": [
    "### Real missions durations"
   ]
  },
  {
   "cell_type": "code",
   "execution_count": 11,
   "metadata": {
    "scrolled": true
   },
   "outputs": [
    {
     "name": "stderr",
     "output_type": "stream",
     "text": [
      "C:\\Users\\matth\\anaconda3\\lib\\site-packages\\seaborn\\_decorators.py:36: FutureWarning: Pass the following variable as a keyword arg: x. From version 0.12, the only valid positional argument will be `data`, and passing other arguments without an explicit keyword will result in an error or misinterpretation.\n",
      "  warnings.warn(\n"
     ]
    },
    {
     "data": {
      "text/plain": [
       "Text(0.5, 1.0, 'Boxenplot of all mission durations')"
      ]
     },
     "execution_count": 11,
     "metadata": {},
     "output_type": "execute_result"
    },
    {
     "data": {
      "image/png": "[encoded data removed]",
      "text/plain": [
       "<Figure size 1152x864 with 2 Axes>"
      ]
     },
     "metadata": {
      "needs_background": "light"
     },
     "output_type": "display_data"
    }
   ],
   "source": [
    "real_mission_duration=[]\n",
    "for i in range (len(alljourney)):\n",
    "    if \"actualTime\" in alljourney[i].columns:\n",
    "        real_mission_duration.append(((pd.to_datetime(alljourney[i].loc[len(alljourney[i])-1,\"actualTime\"])-pd.to_datetime(alljourney[i].loc[0,\"actualTime\"])).total_seconds())/60)\n",
    "    else: real_mission_duration.append(np.nan)\n",
    "        \n",
    "fig,ax=plt.subplots(2,figsize=[16,12])\n",
    "\n",
    "ax[0].hist(real_mission_duration,bins=int(max(real_mission_duration)-min(real_mission_duration)))\n",
    "ax[0].set_xticks(np.arange(min(real_mission_duration),max(real_mission_duration),5))\n",
    "ax[0].set_xlim(left=0,right=200)\n",
    "ax[0].set_title(\"Distribution of all mission durations (zoom between 0 and 200 minutes)\",fontsize=20)\n",
    "\n",
    "sns.boxenplot(real_mission_duration,ax=ax[1])\n",
    "ax[1].set_title(\"Boxenplot of all mission durations\",fontsize=20)"
   ]
  },
  {
   "cell_type": "markdown",
   "metadata": {},
   "source": [
    "Some clear outliers appear in the boxenplot above with some missions lasting more than 1 day "
   ]
  },
  {
   "cell_type": "markdown",
   "metadata": {},
   "source": [
    "### Number of stops for each mission"
   ]
  },
  {
   "cell_type": "code",
   "execution_count": 13,
   "metadata": {
    "scrolled": true
   },
   "outputs": [
    {
     "name": "stderr",
     "output_type": "stream",
     "text": [
      "C:\\Users\\matth\\anaconda3\\lib\\site-packages\\seaborn\\_decorators.py:36: FutureWarning: Pass the following variable as a keyword arg: x. From version 0.12, the only valid positional argument will be `data`, and passing other arguments without an explicit keyword will result in an error or misinterpretation.\n",
      "  warnings.warn(\n"
     ]
    },
    {
     "data": {
      "text/plain": [
       "Text(0.5, 1.0, 'Boxplot of the number of stops per mission')"
      ]
     },
     "execution_count": 13,
     "metadata": {},
     "output_type": "execute_result"
    },
    {
     "data": {
      "image/png": "[encoded data removed]",
      "text/plain": [
       "<Figure size 1152x576 with 2 Axes>"
      ]
     },
     "metadata": {
      "needs_background": "light"
     },
     "output_type": "display_data"
    }
   ],
   "source": [
    "nb_stations_intheway=[(len(alljourney[i][alljourney[i][\"trainStopping\"]==True])/2)+1 for i in range(len(alljourney))]\n",
    "\n",
    "fig,ax=plt.subplots(2,figsize=[16,8])\n",
    "ax[0].hist(nb_stations_intheway,bins=int(max(nb_stations_intheway)-min(nb_stations_intheway)))\n",
    "ax[0].set_xticks(np.arange(min(nb_stations_intheway), max(nb_stations_intheway),1))\n",
    "ax[0].set_title(\"Distribution of the number of stops for each mission\",fontsize=20)\n",
    "\n",
    "sns.boxplot(nb_stations_intheway,ax=ax[1])\n",
    "ax[1].set_title(\"Boxplot of the number of stops per mission\",fontsize=20)"
   ]
  },
  {
   "cell_type": "markdown",
   "metadata": {},
   "source": [
    "No outlier visible in the boxplot above"
   ]
  },
  {
   "cell_type": "markdown",
   "metadata": {},
   "source": [
    "## nb_stations_intheway/real_mission_duration DBSCAN"
   ]
  },
  {
   "cell_type": "markdown",
   "metadata": {},
   "source": [
    "Let's train a simple DBSCAN to see if it is able to detect oultiers while comparing the numbers of stop in each mission and it's duration\n",
    "\n",
    "Using Machine Learning here is clearly not mandatory as we are in a 2D problem, we can visualise potential outliers pretty well with a simple graph, but it would be very important if we add other parameters"
   ]
  },
  {
   "cell_type": "code",
   "execution_count": 14,
   "metadata": {
    "scrolled": false
   },
   "outputs": [
    {
     "data": {
      "text/html": [
       "<div>\n",
       "<style scoped>\n",
       "    .dataframe tbody tr th:only-of-type {\n",
       "        vertical-align: middle;\n",
       "    }\n",
       "\n",
       "    .dataframe tbody tr th {\n",
       "        vertical-align: top;\n",
       "    }\n",
       "\n",
       "    .dataframe thead th {\n",
       "        text-align: right;\n",
       "    }\n",
       "</style>\n",
       "<table border=\"1\" class=\"dataframe\">\n",
       "  <thead>\n",
       "    <tr style=\"text-align: right;\">\n",
       "      <th></th>\n",
       "      <th>nb_stations_intheway</th>\n",
       "      <th>real_mission_duration</th>\n",
       "    </tr>\n",
       "  </thead>\n",
       "  <tbody>\n",
       "    <tr>\n",
       "      <th>0</th>\n",
       "      <td>13.0</td>\n",
       "      <td>278.700000</td>\n",
       "    </tr>\n",
       "    <tr>\n",
       "      <th>1</th>\n",
       "      <td>11.0</td>\n",
       "      <td>271.766667</td>\n",
       "    </tr>\n",
       "    <tr>\n",
       "      <th>2</th>\n",
       "      <td>5.0</td>\n",
       "      <td>79.866667</td>\n",
       "    </tr>\n",
       "    <tr>\n",
       "      <th>3</th>\n",
       "      <td>14.0</td>\n",
       "      <td>282.933333</td>\n",
       "    </tr>\n",
       "    <tr>\n",
       "      <th>4</th>\n",
       "      <td>5.0</td>\n",
       "      <td>80.766667</td>\n",
       "    </tr>\n",
       "  </tbody>\n",
       "</table>\n",
       "</div>"
      ],
      "text/plain": [
       "   nb_stations_intheway  real_mission_duration\n",
       "0                  13.0             278.700000\n",
       "1                  11.0             271.766667\n",
       "2                   5.0              79.866667\n",
       "3                  14.0             282.933333\n",
       "4                   5.0              80.766667"
      ]
     },
     "execution_count": 14,
     "metadata": {},
     "output_type": "execute_result"
    }
   ],
   "source": [
    "nbstations_missionduration=pd.DataFrame({\"nb_stations_intheway\":nb_stations_intheway,\"real_mission_duration\":real_mission_duration})\n",
    "nbstations_missionduration=nbstations_missionduration.dropna()\n",
    "nbstations_missionduration.head()"
   ]
  },
  {
   "cell_type": "code",
   "execution_count": 15,
   "metadata": {
    "scrolled": false
   },
   "outputs": [
    {
     "data": {
      "text/plain": [
       "Text(0.5, 1.0, 'Anomalies detected by a DBSCAN (anomalies= -1)')"
      ]
     },
     "execution_count": 15,
     "metadata": {},
     "output_type": "execute_result"
    },
    {
     "data": {
      "image/png": "[encoded data removed]",
      "text/plain": [
       "<Figure size 432x288 with 1 Axes>"
      ]
     },
     "metadata": {
      "needs_background": "light"
     },
     "output_type": "display_data"
    }
   ],
   "source": [
    "from sklearn.cluster import DBSCAN\n",
    "from sklearn.preprocessing import RobustScaler\n",
    "\n",
    "scaler=RobustScaler()\n",
    "X=pd.DataFrame(scaler.fit_transform(nbstations_missionduration))\n",
    "X.columns =nbstations_missionduration.columns\n",
    "\n",
    "kmeans = DBSCAN(eps=0.5,min_samples=5)# default parameters\n",
    "\n",
    "results=kmeans.fit_predict(X)\n",
    "\n",
    "sns.scatterplot(x=pd.DataFrame(scaler.inverse_transform(X)).iloc[:,0],y=pd.DataFrame(scaler.inverse_transform(X)).iloc[:,1],hue=results)\n",
    "plt.xlabel(\"number of stops\")\n",
    "plt.ylabel(\"mission duration\")\n",
    "plt.title(\"Anomalies detected by a DBSCAN (anomalies= -1)\")"
   ]
  },
  {
   "cell_type": "markdown",
   "metadata": {},
   "source": [
    "Some outliers are detected, we can look at them more in detail."
   ]
  },
  {
   "cell_type": "code",
   "execution_count": 88,
   "metadata": {
    "scrolled": true
   },
   "outputs": [
    {
     "data": {
      "text/html": [
       "<div>\n",
       "<style scoped>\n",
       "    .dataframe tbody tr th:only-of-type {\n",
       "        vertical-align: middle;\n",
       "    }\n",
       "\n",
       "    .dataframe tbody tr th {\n",
       "        vertical-align: top;\n",
       "    }\n",
       "\n",
       "    .dataframe thead th {\n",
       "        text-align: right;\n",
       "    }\n",
       "</style>\n",
       "<table border=\"1\" class=\"dataframe\">\n",
       "  <thead>\n",
       "    <tr style=\"text-align: right;\">\n",
       "      <th></th>\n",
       "      <th>trainNumber</th>\n",
       "      <th>departureDate</th>\n",
       "      <th>operatorUICCode</th>\n",
       "      <th>operatorShortCode</th>\n",
       "      <th>trainType</th>\n",
       "      <th>trainCategory</th>\n",
       "      <th>commuterLineID</th>\n",
       "      <th>runningCurrently</th>\n",
       "      <th>cancelled</th>\n",
       "      <th>version</th>\n",
       "      <th>timetableType</th>\n",
       "      <th>timetableAcceptanceDate</th>\n",
       "      <th>timeTableRows</th>\n",
       "    </tr>\n",
       "  </thead>\n",
       "  <tbody>\n",
       "    <tr>\n",
       "      <th>1342</th>\n",
       "      <td>11346</td>\n",
       "      <td>2022-06-01</td>\n",
       "      <td>10</td>\n",
       "      <td>vr</td>\n",
       "      <td>VET</td>\n",
       "      <td>Locomotive</td>\n",
       "      <td></td>\n",
       "      <td>False</td>\n",
       "      <td>False</td>\n",
       "      <td>282818825112</td>\n",
       "      <td>REGULAR</td>\n",
       "      <td>2021-11-05T10:07:11.000Z</td>\n",
       "      <td>[{'stationShortCode': 'HL', 'stationUICCode': ...</td>\n",
       "    </tr>\n",
       "    <tr>\n",
       "      <th>1900</th>\n",
       "      <td>447</td>\n",
       "      <td>2022-06-02</td>\n",
       "      <td>10</td>\n",
       "      <td>vr</td>\n",
       "      <td>S</td>\n",
       "      <td>Long-distance</td>\n",
       "      <td></td>\n",
       "      <td>False</td>\n",
       "      <td>False</td>\n",
       "      <td>282827997165</td>\n",
       "      <td>REGULAR</td>\n",
       "      <td>2022-02-18T09:41:38.000Z</td>\n",
       "      <td>[{'stationShortCode': 'SK', 'stationUICCode': ...</td>\n",
       "    </tr>\n",
       "    <tr>\n",
       "      <th>3107</th>\n",
       "      <td>11082</td>\n",
       "      <td>2022-06-02</td>\n",
       "      <td>10</td>\n",
       "      <td>vr</td>\n",
       "      <td>VET</td>\n",
       "      <td>Locomotive</td>\n",
       "      <td></td>\n",
       "      <td>False</td>\n",
       "      <td>False</td>\n",
       "      <td>282822671865</td>\n",
       "      <td>REGULAR</td>\n",
       "      <td>2021-08-23T06:01:59.000Z</td>\n",
       "      <td>[{'stationShortCode': 'VSA', 'stationUICCode':...</td>\n",
       "    </tr>\n",
       "    <tr>\n",
       "      <th>8818</th>\n",
       "      <td>8693</td>\n",
       "      <td>2022-06-06</td>\n",
       "      <td>10</td>\n",
       "      <td>vr</td>\n",
       "      <td>HL</td>\n",
       "      <td>Commuter</td>\n",
       "      <td>P</td>\n",
       "      <td>False</td>\n",
       "      <td>False</td>\n",
       "      <td>282859078123</td>\n",
       "      <td>REGULAR</td>\n",
       "      <td>2021-11-05T10:07:11.000Z</td>\n",
       "      <td>[{'stationShortCode': 'HKI', 'stationUICCode':...</td>\n",
       "    </tr>\n",
       "    <tr>\n",
       "      <th>14559</th>\n",
       "      <td>9304</td>\n",
       "      <td>2022-06-09</td>\n",
       "      <td>10</td>\n",
       "      <td>vr</td>\n",
       "      <td>HL</td>\n",
       "      <td>Commuter</td>\n",
       "      <td>K</td>\n",
       "      <td>False</td>\n",
       "      <td>False</td>\n",
       "      <td>282887615128</td>\n",
       "      <td>REGULAR</td>\n",
       "      <td>2021-11-05T10:07:11.000Z</td>\n",
       "      <td>[{'stationShortCode': 'KE', 'stationUICCode': ...</td>\n",
       "    </tr>\n",
       "    <tr>\n",
       "      <th>17412</th>\n",
       "      <td>5320</td>\n",
       "      <td>2022-06-11</td>\n",
       "      <td>10</td>\n",
       "      <td>vr</td>\n",
       "      <td>T</td>\n",
       "      <td>Cargo</td>\n",
       "      <td></td>\n",
       "      <td>False</td>\n",
       "      <td>True</td>\n",
       "      <td>282891326857</td>\n",
       "      <td>REGULAR</td>\n",
       "      <td>2021-08-23T06:01:59.000Z</td>\n",
       "      <td>[{'stationShortCode': 'OLT', 'stationUICCode':...</td>\n",
       "    </tr>\n",
       "    <tr>\n",
       "      <th>26368</th>\n",
       "      <td>9262</td>\n",
       "      <td>2022-06-16</td>\n",
       "      <td>10</td>\n",
       "      <td>vr</td>\n",
       "      <td>HL</td>\n",
       "      <td>Commuter</td>\n",
       "      <td>K</td>\n",
       "      <td>False</td>\n",
       "      <td>False</td>\n",
       "      <td>282946023658</td>\n",
       "      <td>REGULAR</td>\n",
       "      <td>2021-11-05T10:07:11.000Z</td>\n",
       "      <td>[{'stationShortCode': 'KE', 'stationUICCode': ...</td>\n",
       "    </tr>\n",
       "    <tr>\n",
       "      <th>27705</th>\n",
       "      <td>8322</td>\n",
       "      <td>2022-06-17</td>\n",
       "      <td>10</td>\n",
       "      <td>vr</td>\n",
       "      <td>HL</td>\n",
       "      <td>Commuter</td>\n",
       "      <td>E</td>\n",
       "      <td>False</td>\n",
       "      <td>False</td>\n",
       "      <td>282949322288</td>\n",
       "      <td>REGULAR</td>\n",
       "      <td>2021-11-05T10:07:11.000Z</td>\n",
       "      <td>[{'stationShortCode': 'KLH', 'stationUICCode':...</td>\n",
       "    </tr>\n",
       "    <tr>\n",
       "      <th>27723</th>\n",
       "      <td>8340</td>\n",
       "      <td>2022-06-17</td>\n",
       "      <td>10</td>\n",
       "      <td>vr</td>\n",
       "      <td>HL</td>\n",
       "      <td>Commuter</td>\n",
       "      <td>E</td>\n",
       "      <td>False</td>\n",
       "      <td>False</td>\n",
       "      <td>282951357805</td>\n",
       "      <td>REGULAR</td>\n",
       "      <td>2021-11-05T10:07:11.000Z</td>\n",
       "      <td>[{'stationShortCode': 'KLH', 'stationUICCode':...</td>\n",
       "    </tr>\n",
       "    <tr>\n",
       "      <th>30272</th>\n",
       "      <td>61162</td>\n",
       "      <td>2022-06-18</td>\n",
       "      <td>10</td>\n",
       "      <td>vr</td>\n",
       "      <td>SAA</td>\n",
       "      <td>Shunting</td>\n",
       "      <td></td>\n",
       "      <td>False</td>\n",
       "      <td>False</td>\n",
       "      <td>282958674819</td>\n",
       "      <td>REGULAR</td>\n",
       "      <td>2022-02-18T09:41:38.000Z</td>\n",
       "      <td>[{'stationShortCode': 'HKI', 'stationUICCode':...</td>\n",
       "    </tr>\n",
       "    <tr>\n",
       "      <th>30737</th>\n",
       "      <td>8177</td>\n",
       "      <td>2022-06-19</td>\n",
       "      <td>10</td>\n",
       "      <td>vr</td>\n",
       "      <td>HL</td>\n",
       "      <td>Commuter</td>\n",
       "      <td>A</td>\n",
       "      <td>False</td>\n",
       "      <td>False</td>\n",
       "      <td>282969603186</td>\n",
       "      <td>REGULAR</td>\n",
       "      <td>2021-11-05T10:07:11.000Z</td>\n",
       "      <td>[{'stationShortCode': 'HKI', 'stationUICCode':...</td>\n",
       "    </tr>\n",
       "    <tr>\n",
       "      <th>35738</th>\n",
       "      <td>8030</td>\n",
       "      <td>2022-06-22</td>\n",
       "      <td>10</td>\n",
       "      <td>vr</td>\n",
       "      <td>HL</td>\n",
       "      <td>Commuter</td>\n",
       "      <td>A</td>\n",
       "      <td>False</td>\n",
       "      <td>False</td>\n",
       "      <td>282990820111</td>\n",
       "      <td>REGULAR</td>\n",
       "      <td>2022-05-13T09:13:28.000Z</td>\n",
       "      <td>[{'stationShortCode': 'LPV', 'stationUICCode':...</td>\n",
       "    </tr>\n",
       "    <tr>\n",
       "      <th>35739</th>\n",
       "      <td>8031</td>\n",
       "      <td>2022-06-22</td>\n",
       "      <td>10</td>\n",
       "      <td>vr</td>\n",
       "      <td>HL</td>\n",
       "      <td>Commuter</td>\n",
       "      <td>A</td>\n",
       "      <td>False</td>\n",
       "      <td>False</td>\n",
       "      <td>282990703544</td>\n",
       "      <td>REGULAR</td>\n",
       "      <td>2022-05-13T09:13:28.000Z</td>\n",
       "      <td>[{'stationShortCode': 'HKI', 'stationUICCode':...</td>\n",
       "    </tr>\n",
       "    <tr>\n",
       "      <th>35740</th>\n",
       "      <td>8032</td>\n",
       "      <td>2022-06-22</td>\n",
       "      <td>10</td>\n",
       "      <td>vr</td>\n",
       "      <td>HL</td>\n",
       "      <td>Commuter</td>\n",
       "      <td>A</td>\n",
       "      <td>False</td>\n",
       "      <td>False</td>\n",
       "      <td>282990882889</td>\n",
       "      <td>REGULAR</td>\n",
       "      <td>2022-05-13T09:13:28.000Z</td>\n",
       "      <td>[{'stationShortCode': 'LPV', 'stationUICCode':...</td>\n",
       "    </tr>\n",
       "    <tr>\n",
       "      <th>35800</th>\n",
       "      <td>8126</td>\n",
       "      <td>2022-06-22</td>\n",
       "      <td>10</td>\n",
       "      <td>vr</td>\n",
       "      <td>HL</td>\n",
       "      <td>Commuter</td>\n",
       "      <td>A</td>\n",
       "      <td>False</td>\n",
       "      <td>False</td>\n",
       "      <td>282994227434</td>\n",
       "      <td>REGULAR</td>\n",
       "      <td>2022-05-13T09:13:28.000Z</td>\n",
       "      <td>[{'stationShortCode': 'LPV', 'stationUICCode':...</td>\n",
       "    </tr>\n",
       "    <tr>\n",
       "      <th>36573</th>\n",
       "      <td>9941</td>\n",
       "      <td>2022-06-22</td>\n",
       "      <td>10</td>\n",
       "      <td>vr</td>\n",
       "      <td>HL</td>\n",
       "      <td>Commuter</td>\n",
       "      <td>G</td>\n",
       "      <td>False</td>\n",
       "      <td>False</td>\n",
       "      <td>282994023748</td>\n",
       "      <td>REGULAR</td>\n",
       "      <td>2021-12-17T10:19:16.000Z</td>\n",
       "      <td>[{'stationShortCode': 'RI', 'stationUICCode': ...</td>\n",
       "    </tr>\n",
       "    <tr>\n",
       "      <th>36897</th>\n",
       "      <td>60948</td>\n",
       "      <td>2022-06-22</td>\n",
       "      <td>10</td>\n",
       "      <td>vr</td>\n",
       "      <td>SAA</td>\n",
       "      <td>Shunting</td>\n",
       "      <td></td>\n",
       "      <td>False</td>\n",
       "      <td>False</td>\n",
       "      <td>282992335732</td>\n",
       "      <td>REGULAR</td>\n",
       "      <td>2022-05-13T09:13:28.000Z</td>\n",
       "      <td>[{'stationShortCode': 'HKI', 'stationUICCode':...</td>\n",
       "    </tr>\n",
       "    <tr>\n",
       "      <th>37951</th>\n",
       "      <td>8836</td>\n",
       "      <td>2022-06-23</td>\n",
       "      <td>10</td>\n",
       "      <td>vr</td>\n",
       "      <td>HL</td>\n",
       "      <td>Commuter</td>\n",
       "      <td>I</td>\n",
       "      <td>False</td>\n",
       "      <td>False</td>\n",
       "      <td>283001224023</td>\n",
       "      <td>REGULAR</td>\n",
       "      <td>2022-05-13T09:13:28.000Z</td>\n",
       "      <td>[{'stationShortCode': 'HKI', 'stationUICCode':...</td>\n",
       "    </tr>\n",
       "    <tr>\n",
       "      <th>39425</th>\n",
       "      <td>8658</td>\n",
       "      <td>2022-06-24</td>\n",
       "      <td>10</td>\n",
       "      <td>vr</td>\n",
       "      <td>HL</td>\n",
       "      <td>Commuter</td>\n",
       "      <td>P</td>\n",
       "      <td>False</td>\n",
       "      <td>False</td>\n",
       "      <td>283011520609</td>\n",
       "      <td>REGULAR</td>\n",
       "      <td>2022-05-13T09:13:28.000Z</td>\n",
       "      <td>[{'stationShortCode': 'HKI', 'stationUICCode':...</td>\n",
       "    </tr>\n",
       "    <tr>\n",
       "      <th>39632</th>\n",
       "      <td>9138</td>\n",
       "      <td>2022-06-24</td>\n",
       "      <td>10</td>\n",
       "      <td>vr</td>\n",
       "      <td>HL</td>\n",
       "      <td>Commuter</td>\n",
       "      <td>K</td>\n",
       "      <td>False</td>\n",
       "      <td>False</td>\n",
       "      <td>283010380038</td>\n",
       "      <td>REGULAR</td>\n",
       "      <td>2022-05-13T09:13:28.000Z</td>\n",
       "      <td>[{'stationShortCode': 'KE', 'stationUICCode': ...</td>\n",
       "    </tr>\n",
       "    <tr>\n",
       "      <th>41289</th>\n",
       "      <td>64302</td>\n",
       "      <td>2022-06-25</td>\n",
       "      <td>10</td>\n",
       "      <td>vr</td>\n",
       "      <td>PAR</td>\n",
       "      <td>Shunting</td>\n",
       "      <td></td>\n",
       "      <td>False</td>\n",
       "      <td>False</td>\n",
       "      <td>282929147014</td>\n",
       "      <td>REGULAR</td>\n",
       "      <td>2022-02-18T09:41:38.000Z</td>\n",
       "      <td>[{'stationShortCode': 'VNAT', 'stationUICCode'...</td>\n",
       "    </tr>\n",
       "  </tbody>\n",
       "</table>\n",
       "</div>"
      ],
      "text/plain": [
       "       trainNumber departureDate  operatorUICCode operatorShortCode trainType  \\\n",
       "1342         11346    2022-06-01               10                vr       VET   \n",
       "1900           447    2022-06-02               10                vr         S   \n",
       "3107         11082    2022-06-02               10                vr       VET   \n",
       "8818          8693    2022-06-06               10                vr        HL   \n",
       "14559         9304    2022-06-09               10                vr        HL   \n",
       "17412         5320    2022-06-11               10                vr         T   \n",
       "26368         9262    2022-06-16               10                vr        HL   \n",
       "27705         8322    2022-06-17               10                vr        HL   \n",
       "27723         8340    2022-06-17               10                vr        HL   \n",
       "30272        61162    2022-06-18               10                vr       SAA   \n",
       "30737         8177    2022-06-19               10                vr        HL   \n",
       "35738         8030    2022-06-22               10                vr        HL   \n",
       "35739         8031    2022-06-22               10                vr        HL   \n",
       "35740         8032    2022-06-22               10                vr        HL   \n",
       "35800         8126    2022-06-22               10                vr        HL   \n",
       "36573         9941    2022-06-22               10                vr        HL   \n",
       "36897        60948    2022-06-22               10                vr       SAA   \n",
       "37951         8836    2022-06-23               10                vr        HL   \n",
       "39425         8658    2022-06-24               10                vr        HL   \n",
       "39632         9138    2022-06-24               10                vr        HL   \n",
       "41289        64302    2022-06-25               10                vr       PAR   \n",
       "\n",
       "       trainCategory commuterLineID  runningCurrently  cancelled  \\\n",
       "1342      Locomotive                            False      False   \n",
       "1900   Long-distance                            False      False   \n",
       "3107      Locomotive                            False      False   \n",
       "8818        Commuter              P             False      False   \n",
       "14559       Commuter              K             False      False   \n",
       "17412          Cargo                            False       True   \n",
       "26368       Commuter              K             False      False   \n",
       "27705       Commuter              E             False      False   \n",
       "27723       Commuter              E             False      False   \n",
       "30272       Shunting                            False      False   \n",
       "30737       Commuter              A             False      False   \n",
       "35738       Commuter              A             False      False   \n",
       "35739       Commuter              A             False      False   \n",
       "35740       Commuter              A             False      False   \n",
       "35800       Commuter              A             False      False   \n",
       "36573       Commuter              G             False      False   \n",
       "36897       Shunting                            False      False   \n",
       "37951       Commuter              I             False      False   \n",
       "39425       Commuter              P             False      False   \n",
       "39632       Commuter              K             False      False   \n",
       "41289       Shunting                            False      False   \n",
       "\n",
       "            version timetableType   timetableAcceptanceDate  \\\n",
       "1342   282818825112       REGULAR  2021-11-05T10:07:11.000Z   \n",
       "1900   282827997165       REGULAR  2022-02-18T09:41:38.000Z   \n",
       "3107   282822671865       REGULAR  2021-08-23T06:01:59.000Z   \n",
       "8818   282859078123       REGULAR  2021-11-05T10:07:11.000Z   \n",
       "14559  282887615128       REGULAR  2021-11-05T10:07:11.000Z   \n",
       "17412  282891326857       REGULAR  2021-08-23T06:01:59.000Z   \n",
       "26368  282946023658       REGULAR  2021-11-05T10:07:11.000Z   \n",
       "27705  282949322288       REGULAR  2021-11-05T10:07:11.000Z   \n",
       "27723  282951357805       REGULAR  2021-11-05T10:07:11.000Z   \n",
       "30272  282958674819       REGULAR  2022-02-18T09:41:38.000Z   \n",
       "30737  282969603186       REGULAR  2021-11-05T10:07:11.000Z   \n",
       "35738  282990820111       REGULAR  2022-05-13T09:13:28.000Z   \n",
       "35739  282990703544       REGULAR  2022-05-13T09:13:28.000Z   \n",
       "35740  282990882889       REGULAR  2022-05-13T09:13:28.000Z   \n",
       "35800  282994227434       REGULAR  2022-05-13T09:13:28.000Z   \n",
       "36573  282994023748       REGULAR  2021-12-17T10:19:16.000Z   \n",
       "36897  282992335732       REGULAR  2022-05-13T09:13:28.000Z   \n",
       "37951  283001224023       REGULAR  2022-05-13T09:13:28.000Z   \n",
       "39425  283011520609       REGULAR  2022-05-13T09:13:28.000Z   \n",
       "39632  283010380038       REGULAR  2022-05-13T09:13:28.000Z   \n",
       "41289  282929147014       REGULAR  2022-02-18T09:41:38.000Z   \n",
       "\n",
       "                                           timeTableRows  \n",
       "1342   [{'stationShortCode': 'HL', 'stationUICCode': ...  \n",
       "1900   [{'stationShortCode': 'SK', 'stationUICCode': ...  \n",
       "3107   [{'stationShortCode': 'VSA', 'stationUICCode':...  \n",
       "8818   [{'stationShortCode': 'HKI', 'stationUICCode':...  \n",
       "14559  [{'stationShortCode': 'KE', 'stationUICCode': ...  \n",
       "17412  [{'stationShortCode': 'OLT', 'stationUICCode':...  \n",
       "26368  [{'stationShortCode': 'KE', 'stationUICCode': ...  \n",
       "27705  [{'stationShortCode': 'KLH', 'stationUICCode':...  \n",
       "27723  [{'stationShortCode': 'KLH', 'stationUICCode':...  \n",
       "30272  [{'stationShortCode': 'HKI', 'stationUICCode':...  \n",
       "30737  [{'stationShortCode': 'HKI', 'stationUICCode':...  \n",
       "35738  [{'stationShortCode': 'LPV', 'stationUICCode':...  \n",
       "35739  [{'stationShortCode': 'HKI', 'stationUICCode':...  \n",
       "35740  [{'stationShortCode': 'LPV', 'stationUICCode':...  \n",
       "35800  [{'stationShortCode': 'LPV', 'stationUICCode':...  \n",
       "36573  [{'stationShortCode': 'RI', 'stationUICCode': ...  \n",
       "36897  [{'stationShortCode': 'HKI', 'stationUICCode':...  \n",
       "37951  [{'stationShortCode': 'HKI', 'stationUICCode':...  \n",
       "39425  [{'stationShortCode': 'HKI', 'stationUICCode':...  \n",
       "39632  [{'stationShortCode': 'KE', 'stationUICCode': ...  \n",
       "41289  [{'stationShortCode': 'VNAT', 'stationUICCode'...  "
      ]
     },
     "execution_count": 88,
     "metadata": {},
     "output_type": "execute_result"
    }
   ],
   "source": [
    "df.loc[np.where(kmeans.labels_==-1)]"
   ]
  },
  {
   "cell_type": "markdown",
   "metadata": {},
   "source": [
    "(I didn't find any really interesting anomalies, maybe it would be more relevant to look into train delay outliers )"
   ]
  },
  {
   "cell_type": "markdown",
   "metadata": {},
   "source": [
    "Still, we can see that some mission last for more than 12 hours while not having too many stops (no more than ~ 25). It's most likely due to long stops at some stations, which seems to be according to the schedule."
   ]
  },
  {
   "cell_type": "markdown",
   "metadata": {},
   "source": [
    "## train delay outliers"
   ]
  },
  {
   "cell_type": "markdown",
   "metadata": {},
   "source": [
    "We will look at trains which arrived more than 180 minutes in advance or late and at the stations where these anomalies occur the most and see which incident categories they are associated with ( if the same incident is indicated more than once for the same mission, we will still keep it, to have a good idea of the number of impacted stations and thus understand how important is the incident)\n",
    "\n",
    "First, let's take a look at the category code indicated for all stations where the train stopped"
   ]
  },
  {
   "cell_type": "code",
   "execution_count": 21,
   "metadata": {
    "scrolled": true
   },
   "outputs": [
    {
     "data": {
      "text/plain": [
       "E    9025\n",
       "L    4647\n",
       "M    2054\n",
       "P    1472\n",
       "J     897\n",
       "T     754\n",
       "R     474\n",
       "S     432\n",
       "A     362\n",
       "K     236\n",
       "V     216\n",
       "I     172\n",
       "O      16\n",
       "Name: categoryCode, dtype: int64"
      ]
     },
     "execution_count": 21,
     "metadata": {},
     "output_type": "execute_result"
    }
   ],
   "source": [
    "df_alljourney[df_alljourney[\"trainStopping\"]==True ].categoryCode.value_counts()"
   ]
  },
  {
   "cell_type": "markdown",
   "metadata": {},
   "source": [
    "Now only very late trains :"
   ]
  },
  {
   "cell_type": "code",
   "execution_count": 19,
   "metadata": {
    "scrolled": false
   },
   "outputs": [
    {
     "data": {
      "text/plain": [
       "R    23\n",
       "L    22\n",
       "M    15\n",
       "V     9\n",
       "A     5\n",
       "P     4\n",
       "T     3\n",
       "S     2\n",
       "J     1\n",
       "Name: categoryCode, dtype: int64"
      ]
     },
     "execution_count": 19,
     "metadata": {},
     "output_type": "execute_result"
    }
   ],
   "source": [
    "df_alljourney[(df_alljourney.differenceInMinutes>180) & (df_alljourney[\"trainStopping\"]==True)].categoryCode.value_counts()"
   ]
  },
  {
   "cell_type": "markdown",
   "metadata": {},
   "source": [
    "Compared to the initial proportion of incidents, there are far more \"R\" code incidents (railway work).\n",
    "Let's give a look at the detailedCategoryCode"
   ]
  },
  {
   "cell_type": "code",
   "execution_count": 62,
   "metadata": {
    "scrolled": true
   },
   "outputs": [
    {
     "data": {
      "text/plain": [
       "1560803    R3\n",
       "1560804    R3\n",
       "1561003    R3\n",
       "1561015    R3\n",
       "1561075    R2\n",
       "1561076    R2\n",
       "1561085    R2\n",
       "1567804    R2\n",
       "1567827    R2\n",
       "1568112    R2\n",
       "1568123    R2\n",
       "1568276    R2\n",
       "1568299    R2\n",
       "1568584    R2\n",
       "1568595    R2\n",
       "1568621    R2\n",
       "1568819    R2\n",
       "1571250    R2\n",
       "1603056    R3\n",
       "1604951    R3\n",
       "1604952    R3\n",
       "1758821    R1\n",
       "1824051    R1\n",
       "Name: causes, dtype: object"
      ]
     },
     "execution_count": 62,
     "metadata": {},
     "output_type": "execute_result"
    }
   ],
   "source": [
    "df_alljourney[(df_alljourney.differenceInMinutes>180) & (df_alljourney.categoryCode==\"R\")& (df_alljourney[\"trainStopping\"]==True)].causes.apply(lambda x:x[0]['detailedCategoryCode'])"
   ]
  },
  {
   "cell_type": "markdown",
   "metadata": {},
   "source": [
    "According to the metadatas, R1 is associated to \"Railway works (anticipated works with speed restrictions)\" while R2 is associated with \"Exceeding the agreed time for track work\" and R3 \"Traffic restriction after track work\""
   ]
  },
  {
   "cell_type": "markdown",
   "metadata": {},
   "source": [
    "Let's look at the stations concerned:"
   ]
  },
  {
   "cell_type": "code",
   "execution_count": 64,
   "metadata": {
    "scrolled": true
   },
   "outputs": [
    {
     "data": {
      "text/plain": [
       "TRÄ    11\n",
       "RAS    11\n",
       "TAP    11\n",
       "PSL    10\n",
       "KUV    10\n",
       "LRS    10\n",
       "MKO    10\n",
       "LÄ     10\n",
       "JTS    10\n",
       "LR     10\n",
       "Name: stationShortCode, dtype: int64"
      ]
     },
     "execution_count": 64,
     "metadata": {},
     "output_type": "execute_result"
    }
   ],
   "source": [
    "value_counts=df_alljourney[(df_alljourney.differenceInMinutes)>180].stationShortCode.value_counts()\n",
    "value_counts[value_counts>=20]//2 # arrival and departures are represented in data, some we divide by two"
   ]
  },
  {
   "cell_type": "markdown",
   "metadata": {},
   "source": [
    "We will probably need to surveille the traffic in those stations, as they seem to be quite vulnerable to big delays"
   ]
  },
  {
   "cell_type": "markdown",
   "metadata": {},
   "source": [
    "## Difference between scheduled time and timetableAcceptanceDate"
   ]
  },
  {
   "cell_type": "markdown",
   "metadata": {},
   "source": [
    "We will create a column representing the timespan between the acceptance date (date when the schedule for the train have been decided) and the scheduled time"
   ]
  },
  {
   "cell_type": "code",
   "execution_count": 91,
   "metadata": {
    "scrolled": true
   },
   "outputs": [
    {
     "data": {
      "text/html": [
       "<div>\n",
       "<style scoped>\n",
       "    .dataframe tbody tr th:only-of-type {\n",
       "        vertical-align: middle;\n",
       "    }\n",
       "\n",
       "    .dataframe tbody tr th {\n",
       "        vertical-align: top;\n",
       "    }\n",
       "\n",
       "    .dataframe thead th {\n",
       "        text-align: right;\n",
       "    }\n",
       "</style>\n",
       "<table border=\"1\" class=\"dataframe\">\n",
       "  <thead>\n",
       "    <tr style=\"text-align: right;\">\n",
       "      <th></th>\n",
       "      <th>trainNumber</th>\n",
       "      <th>departureDate</th>\n",
       "      <th>operatorUICCode</th>\n",
       "      <th>operatorShortCode</th>\n",
       "      <th>trainType</th>\n",
       "      <th>trainCategory</th>\n",
       "      <th>commuterLineID</th>\n",
       "      <th>runningCurrently</th>\n",
       "      <th>cancelled</th>\n",
       "      <th>version</th>\n",
       "      <th>timetableType</th>\n",
       "      <th>timetableAcceptanceDate</th>\n",
       "      <th>timeTableRows</th>\n",
       "      <th>timespan_acceptance_scheduled</th>\n",
       "    </tr>\n",
       "  </thead>\n",
       "  <tbody>\n",
       "    <tr>\n",
       "      <th>3093</th>\n",
       "      <td>10422</td>\n",
       "      <td>2022-06-02</td>\n",
       "      <td>10</td>\n",
       "      <td>vr</td>\n",
       "      <td>MV</td>\n",
       "      <td>Long-distance</td>\n",
       "      <td></td>\n",
       "      <td>True</td>\n",
       "      <td>False</td>\n",
       "      <td>282828657811</td>\n",
       "      <td>ADHOC</td>\n",
       "      <td>2022-06-02 16:42:39+00:00</td>\n",
       "      <td>[{'stationShortCode': 'II', 'stationUICCode': ...</td>\n",
       "      <td>-1 days +23:57:21</td>\n",
       "    </tr>\n",
       "    <tr>\n",
       "      <th>3562</th>\n",
       "      <td>65882</td>\n",
       "      <td>2022-06-02</td>\n",
       "      <td>10</td>\n",
       "      <td>vr</td>\n",
       "      <td>PAI</td>\n",
       "      <td>Shunting</td>\n",
       "      <td></td>\n",
       "      <td>False</td>\n",
       "      <td>False</td>\n",
       "      <td>282823756606</td>\n",
       "      <td>ADHOC</td>\n",
       "      <td>2022-06-02 07:06:51+00:00</td>\n",
       "      <td>[{'stationShortCode': 'JSK', 'stationUICCode':...</td>\n",
       "      <td>-1 days +23:53:09</td>\n",
       "    </tr>\n",
       "    <tr>\n",
       "      <th>5042</th>\n",
       "      <td>11877</td>\n",
       "      <td>2022-06-03</td>\n",
       "      <td>10</td>\n",
       "      <td>vr</td>\n",
       "      <td>VET</td>\n",
       "      <td>Locomotive</td>\n",
       "      <td></td>\n",
       "      <td>False</td>\n",
       "      <td>False</td>\n",
       "      <td>282831093905</td>\n",
       "      <td>ADHOC</td>\n",
       "      <td>2022-06-03 02:41:00+00:00</td>\n",
       "      <td>[{'stationShortCode': 'HVA', 'stationUICCode':...</td>\n",
       "      <td>-1 days +23:59:00</td>\n",
       "    </tr>\n",
       "    <tr>\n",
       "      <th>5339</th>\n",
       "      <td>65101</td>\n",
       "      <td>2022-06-03</td>\n",
       "      <td>10</td>\n",
       "      <td>vr</td>\n",
       "      <td>W</td>\n",
       "      <td>Shunting</td>\n",
       "      <td></td>\n",
       "      <td>False</td>\n",
       "      <td>False</td>\n",
       "      <td>282836915036</td>\n",
       "      <td>ADHOC</td>\n",
       "      <td>2022-06-03 15:56:40+00:00</td>\n",
       "      <td>[{'stationShortCode': 'HY', 'stationUICCode': ...</td>\n",
       "      <td>-1 days +23:58:20</td>\n",
       "    </tr>\n",
       "    <tr>\n",
       "      <th>5422</th>\n",
       "      <td>79950</td>\n",
       "      <td>2022-06-03</td>\n",
       "      <td>9996</td>\n",
       "      <td>sundstroms</td>\n",
       "      <td>TYO</td>\n",
       "      <td>On-track machines</td>\n",
       "      <td></td>\n",
       "      <td>False</td>\n",
       "      <td>False</td>\n",
       "      <td>282837609239</td>\n",
       "      <td>ADHOC</td>\n",
       "      <td>2022-06-03 12:53:47+00:00</td>\n",
       "      <td>[{'stationShortCode': 'KEM', 'stationUICCode':...</td>\n",
       "      <td>-1 days +23:53:13</td>\n",
       "    </tr>\n",
       "    <tr>\n",
       "      <th>7992</th>\n",
       "      <td>65621</td>\n",
       "      <td>2022-06-05</td>\n",
       "      <td>10</td>\n",
       "      <td>vr</td>\n",
       "      <td>PAI</td>\n",
       "      <td>Shunting</td>\n",
       "      <td></td>\n",
       "      <td>False</td>\n",
       "      <td>False</td>\n",
       "      <td>282848925556</td>\n",
       "      <td>ADHOC</td>\n",
       "      <td>2022-06-05 05:55:10+00:00</td>\n",
       "      <td>[{'stationShortCode': 'VKT', 'stationUICCode':...</td>\n",
       "      <td>-1 days +23:49:50</td>\n",
       "    </tr>\n",
       "    <tr>\n",
       "      <th>9750</th>\n",
       "      <td>65108</td>\n",
       "      <td>2022-06-06</td>\n",
       "      <td>10</td>\n",
       "      <td>vr</td>\n",
       "      <td>SAA</td>\n",
       "      <td>Shunting</td>\n",
       "      <td></td>\n",
       "      <td>False</td>\n",
       "      <td>False</td>\n",
       "      <td>282859242872</td>\n",
       "      <td>ADHOC</td>\n",
       "      <td>2022-06-06 13:56:18+00:00</td>\n",
       "      <td>[{'stationShortCode': 'ILR', 'stationUICCode':...</td>\n",
       "      <td>-1 days +23:53:26</td>\n",
       "    </tr>\n",
       "    <tr>\n",
       "      <th>9801</th>\n",
       "      <td>70010</td>\n",
       "      <td>2022-06-06</td>\n",
       "      <td>2910</td>\n",
       "      <td>vr-track</td>\n",
       "      <td>TYO</td>\n",
       "      <td>On-track machines</td>\n",
       "      <td></td>\n",
       "      <td>True</td>\n",
       "      <td>False</td>\n",
       "      <td>282857835969</td>\n",
       "      <td>ADHOC</td>\n",
       "      <td>2022-06-06 09:31:45+00:00</td>\n",
       "      <td>[{'stationShortCode': 'ML', 'stationUICCode': ...</td>\n",
       "      <td>-1 days +23:58:15</td>\n",
       "    </tr>\n",
       "    <tr>\n",
       "      <th>11242</th>\n",
       "      <td>11784</td>\n",
       "      <td>2022-06-07</td>\n",
       "      <td>10</td>\n",
       "      <td>vr</td>\n",
       "      <td>VET</td>\n",
       "      <td>Locomotive</td>\n",
       "      <td></td>\n",
       "      <td>False</td>\n",
       "      <td>False</td>\n",
       "      <td>282865305057</td>\n",
       "      <td>ADHOC</td>\n",
       "      <td>2022-06-07 07:31:44+00:00</td>\n",
       "      <td>[{'stationShortCode': 'KPA', 'stationUICCode':...</td>\n",
       "      <td>-1 days +23:43:16</td>\n",
       "    </tr>\n",
       "    <tr>\n",
       "      <th>11574</th>\n",
       "      <td>65629</td>\n",
       "      <td>2022-06-07</td>\n",
       "      <td>10</td>\n",
       "      <td>vr</td>\n",
       "      <td>PAI</td>\n",
       "      <td>Shunting</td>\n",
       "      <td></td>\n",
       "      <td>False</td>\n",
       "      <td>False</td>\n",
       "      <td>282868667389</td>\n",
       "      <td>ADHOC</td>\n",
       "      <td>2022-06-07 15:23:46+00:00</td>\n",
       "      <td>[{'stationShortCode': 'VKT', 'stationUICCode':...</td>\n",
       "      <td>-1 days +23:56:14</td>\n",
       "    </tr>\n",
       "    <tr>\n",
       "      <th>11588</th>\n",
       "      <td>65860</td>\n",
       "      <td>2022-06-07</td>\n",
       "      <td>10</td>\n",
       "      <td>vr</td>\n",
       "      <td>PAI</td>\n",
       "      <td>Shunting</td>\n",
       "      <td></td>\n",
       "      <td>False</td>\n",
       "      <td>False</td>\n",
       "      <td>282864767197</td>\n",
       "      <td>ADHOC</td>\n",
       "      <td>2022-06-07 06:07:38+00:00</td>\n",
       "      <td>[{'stationShortCode': 'VI', 'stationUICCode': ...</td>\n",
       "      <td>-1 days +23:52:22</td>\n",
       "    </tr>\n",
       "    <tr>\n",
       "      <th>11600</th>\n",
       "      <td>65882</td>\n",
       "      <td>2022-06-07</td>\n",
       "      <td>10</td>\n",
       "      <td>vr</td>\n",
       "      <td>PAI</td>\n",
       "      <td>Shunting</td>\n",
       "      <td></td>\n",
       "      <td>False</td>\n",
       "      <td>False</td>\n",
       "      <td>282868820711</td>\n",
       "      <td>ADHOC</td>\n",
       "      <td>2022-06-07 16:36:21+00:00</td>\n",
       "      <td>[{'stationShortCode': 'JSK', 'stationUICCode':...</td>\n",
       "      <td>-1 days +23:59:39</td>\n",
       "    </tr>\n",
       "    <tr>\n",
       "      <th>15008</th>\n",
       "      <td>58314</td>\n",
       "      <td>2022-06-09</td>\n",
       "      <td>10</td>\n",
       "      <td>vr</td>\n",
       "      <td>T</td>\n",
       "      <td>Cargo</td>\n",
       "      <td></td>\n",
       "      <td>False</td>\n",
       "      <td>False</td>\n",
       "      <td>282886363926</td>\n",
       "      <td>ADHOC</td>\n",
       "      <td>2022-06-09 15:04:22+00:00</td>\n",
       "      <td>[{'stationShortCode': 'VLP', 'stationUICCode':...</td>\n",
       "      <td>-1 days +23:54:38</td>\n",
       "    </tr>\n",
       "    <tr>\n",
       "      <th>16736</th>\n",
       "      <td>11877</td>\n",
       "      <td>2022-06-10</td>\n",
       "      <td>10</td>\n",
       "      <td>vr</td>\n",
       "      <td>VET</td>\n",
       "      <td>Locomotive</td>\n",
       "      <td></td>\n",
       "      <td>False</td>\n",
       "      <td>False</td>\n",
       "      <td>282889718271</td>\n",
       "      <td>ADHOC</td>\n",
       "      <td>2022-06-10 03:31:00+00:00</td>\n",
       "      <td>[{'stationShortCode': 'HVA', 'stationUICCode':...</td>\n",
       "      <td>-1 days +23:59:00</td>\n",
       "    </tr>\n",
       "    <tr>\n",
       "      <th>17041</th>\n",
       "      <td>65556</td>\n",
       "      <td>2022-06-10</td>\n",
       "      <td>10</td>\n",
       "      <td>vr</td>\n",
       "      <td>PAI</td>\n",
       "      <td>Shunting</td>\n",
       "      <td></td>\n",
       "      <td>False</td>\n",
       "      <td>False</td>\n",
       "      <td>282894602229</td>\n",
       "      <td>ADHOC</td>\n",
       "      <td>2022-06-10 15:24:14+00:00</td>\n",
       "      <td>[{'stationShortCode': 'ONT', 'stationUICCode':...</td>\n",
       "      <td>-1 days +23:53:46</td>\n",
       "    </tr>\n",
       "    <tr>\n",
       "      <th>17083</th>\n",
       "      <td>65938</td>\n",
       "      <td>2022-06-10</td>\n",
       "      <td>10</td>\n",
       "      <td>vr</td>\n",
       "      <td>VEV</td>\n",
       "      <td>Shunting</td>\n",
       "      <td></td>\n",
       "      <td>False</td>\n",
       "      <td>False</td>\n",
       "      <td>282891395563</td>\n",
       "      <td>ADHOC</td>\n",
       "      <td>2022-06-10 08:02:08+00:00</td>\n",
       "      <td>[{'stationShortCode': 'YKSV', 'stationUICCode'...</td>\n",
       "      <td>-1 days +23:57:52</td>\n",
       "    </tr>\n",
       "    <tr>\n",
       "      <th>17115</th>\n",
       "      <td>76121</td>\n",
       "      <td>2022-06-10</td>\n",
       "      <td>3177</td>\n",
       "      <td>destia</td>\n",
       "      <td>TYO</td>\n",
       "      <td>On-track machines</td>\n",
       "      <td></td>\n",
       "      <td>False</td>\n",
       "      <td>False</td>\n",
       "      <td>282888922300</td>\n",
       "      <td>ADHOC</td>\n",
       "      <td>2022-06-10 01:20:47+00:00</td>\n",
       "      <td>[{'stationShortCode': 'SKI', 'stationUICCode':...</td>\n",
       "      <td>-1 days +23:59:13</td>\n",
       "    </tr>\n",
       "    <tr>\n",
       "      <th>19779</th>\n",
       "      <td>70023</td>\n",
       "      <td>2022-06-12</td>\n",
       "      <td>2910</td>\n",
       "      <td>vr-track</td>\n",
       "      <td>TYO</td>\n",
       "      <td>On-track machines</td>\n",
       "      <td></td>\n",
       "      <td>True</td>\n",
       "      <td>False</td>\n",
       "      <td>282910382391</td>\n",
       "      <td>ADHOC</td>\n",
       "      <td>2022-06-12 15:08:27+00:00</td>\n",
       "      <td>[{'stationShortCode': 'KV', 'stationUICCode': ...</td>\n",
       "      <td>-1 days +23:57:33</td>\n",
       "    </tr>\n",
       "    <tr>\n",
       "      <th>21572</th>\n",
       "      <td>65876</td>\n",
       "      <td>2022-06-13</td>\n",
       "      <td>10</td>\n",
       "      <td>vr</td>\n",
       "      <td>PAI</td>\n",
       "      <td>Shunting</td>\n",
       "      <td></td>\n",
       "      <td>False</td>\n",
       "      <td>False</td>\n",
       "      <td>282914626384</td>\n",
       "      <td>ADHOC</td>\n",
       "      <td>2022-06-13 06:56:46+00:00</td>\n",
       "      <td>[{'stationShortCode': 'JSK', 'stationUICCode':...</td>\n",
       "      <td>-1 days +23:53:14</td>\n",
       "    </tr>\n",
       "    <tr>\n",
       "      <th>23037</th>\n",
       "      <td>11773</td>\n",
       "      <td>2022-06-14</td>\n",
       "      <td>10</td>\n",
       "      <td>vr</td>\n",
       "      <td>VET</td>\n",
       "      <td>Locomotive</td>\n",
       "      <td></td>\n",
       "      <td>False</td>\n",
       "      <td>False</td>\n",
       "      <td>282925304335</td>\n",
       "      <td>ADHOC</td>\n",
       "      <td>2022-06-14 09:50:16+00:00</td>\n",
       "      <td>[{'stationShortCode': 'HVA', 'stationUICCode':...</td>\n",
       "      <td>-1 days +23:56:44</td>\n",
       "    </tr>\n",
       "    <tr>\n",
       "      <th>23430</th>\n",
       "      <td>71857</td>\n",
       "      <td>2022-06-14</td>\n",
       "      <td>2910</td>\n",
       "      <td>vr-track</td>\n",
       "      <td>TYO</td>\n",
       "      <td>On-track machines</td>\n",
       "      <td></td>\n",
       "      <td>False</td>\n",
       "      <td>False</td>\n",
       "      <td>282921614662</td>\n",
       "      <td>ADHOC</td>\n",
       "      <td>2022-06-14 00:05:22+00:00</td>\n",
       "      <td>[{'stationShortCode': 'KAJ', 'stationUICCode':...</td>\n",
       "      <td>-1 days +23:59:38</td>\n",
       "    </tr>\n",
       "    <tr>\n",
       "      <th>27019</th>\n",
       "      <td>65000</td>\n",
       "      <td>2022-06-16</td>\n",
       "      <td>10</td>\n",
       "      <td>vr</td>\n",
       "      <td>SAA</td>\n",
       "      <td>Shunting</td>\n",
       "      <td></td>\n",
       "      <td>False</td>\n",
       "      <td>False</td>\n",
       "      <td>282946731732</td>\n",
       "      <td>ADHOC</td>\n",
       "      <td>2022-06-16 19:14:09+00:00</td>\n",
       "      <td>[{'stationShortCode': 'ILR', 'stationUICCode':...</td>\n",
       "      <td>-1 days +23:59:51</td>\n",
       "    </tr>\n",
       "    <tr>\n",
       "      <th>31374</th>\n",
       "      <td>11818</td>\n",
       "      <td>2022-06-19</td>\n",
       "      <td>10</td>\n",
       "      <td>vr</td>\n",
       "      <td>VET</td>\n",
       "      <td>Locomotive</td>\n",
       "      <td></td>\n",
       "      <td>False</td>\n",
       "      <td>False</td>\n",
       "      <td>282967230544</td>\n",
       "      <td>ADHOC</td>\n",
       "      <td>2022-06-19 07:55:27+00:00</td>\n",
       "      <td>[{'stationShortCode': 'VSA', 'stationUICCode':...</td>\n",
       "      <td>-1 days +23:57:33</td>\n",
       "    </tr>\n",
       "    <tr>\n",
       "      <th>31607</th>\n",
       "      <td>65601</td>\n",
       "      <td>2022-06-19</td>\n",
       "      <td>10</td>\n",
       "      <td>vr</td>\n",
       "      <td>PAI</td>\n",
       "      <td>Shunting</td>\n",
       "      <td></td>\n",
       "      <td>False</td>\n",
       "      <td>False</td>\n",
       "      <td>282965465245</td>\n",
       "      <td>ADHOC</td>\n",
       "      <td>2022-06-19 04:12:37+00:00</td>\n",
       "      <td>[{'stationShortCode': 'YKST', 'stationUICCode'...</td>\n",
       "      <td>-1 days +23:47:23</td>\n",
       "    </tr>\n",
       "    <tr>\n",
       "      <th>33087</th>\n",
       "      <td>11848</td>\n",
       "      <td>2022-06-20</td>\n",
       "      <td>10</td>\n",
       "      <td>vr</td>\n",
       "      <td>VET</td>\n",
       "      <td>Locomotive</td>\n",
       "      <td></td>\n",
       "      <td>False</td>\n",
       "      <td>False</td>\n",
       "      <td>282976264894</td>\n",
       "      <td>ADHOC</td>\n",
       "      <td>2022-06-20 10:45:32+00:00</td>\n",
       "      <td>[{'stationShortCode': 'KRM', 'stationUICCode':...</td>\n",
       "      <td>-1 days +23:12:28</td>\n",
       "    </tr>\n",
       "    <tr>\n",
       "      <th>33440</th>\n",
       "      <td>65872</td>\n",
       "      <td>2022-06-20</td>\n",
       "      <td>10</td>\n",
       "      <td>vr</td>\n",
       "      <td>PAI</td>\n",
       "      <td>Shunting</td>\n",
       "      <td></td>\n",
       "      <td>False</td>\n",
       "      <td>False</td>\n",
       "      <td>282974653452</td>\n",
       "      <td>ADHOC</td>\n",
       "      <td>2022-06-20 07:41:56+00:00</td>\n",
       "      <td>[{'stationShortCode': 'JSK', 'stationUICCode':...</td>\n",
       "      <td>-1 days +23:49:04</td>\n",
       "    </tr>\n",
       "    <tr>\n",
       "      <th>36723</th>\n",
       "      <td>11843</td>\n",
       "      <td>2022-06-22</td>\n",
       "      <td>10</td>\n",
       "      <td>vr</td>\n",
       "      <td>VET</td>\n",
       "      <td>Locomotive</td>\n",
       "      <td></td>\n",
       "      <td>False</td>\n",
       "      <td>False</td>\n",
       "      <td>282995561771</td>\n",
       "      <td>ADHOC</td>\n",
       "      <td>2022-06-22 13:29:16+00:00</td>\n",
       "      <td>[{'stationShortCode': 'KEM', 'stationUICCode':...</td>\n",
       "      <td>-1 days +23:58:44</td>\n",
       "    </tr>\n",
       "    <tr>\n",
       "      <th>42189</th>\n",
       "      <td>10411</td>\n",
       "      <td>2022-06-26</td>\n",
       "      <td>10</td>\n",
       "      <td>vr</td>\n",
       "      <td>MV</td>\n",
       "      <td>Long-distance</td>\n",
       "      <td></td>\n",
       "      <td>False</td>\n",
       "      <td>False</td>\n",
       "      <td>283024851267</td>\n",
       "      <td>ADHOC</td>\n",
       "      <td>2022-06-26 18:09:30+00:00</td>\n",
       "      <td>[{'stationShortCode': 'LR', 'stationUICCode': ...</td>\n",
       "      <td>-1 days +23:46:30</td>\n",
       "    </tr>\n",
       "    <tr>\n",
       "      <th>43806</th>\n",
       "      <td>10430</td>\n",
       "      <td>2022-06-27</td>\n",
       "      <td>10</td>\n",
       "      <td>vr</td>\n",
       "      <td>MV</td>\n",
       "      <td>Long-distance</td>\n",
       "      <td></td>\n",
       "      <td>False</td>\n",
       "      <td>False</td>\n",
       "      <td>283034325088</td>\n",
       "      <td>ADHOC</td>\n",
       "      <td>2022-06-27 07:14:18+00:00</td>\n",
       "      <td>[{'stationShortCode': 'TL', 'stationUICCode': ...</td>\n",
       "      <td>-1 days +23:52:42</td>\n",
       "    </tr>\n",
       "    <tr>\n",
       "      <th>43809</th>\n",
       "      <td>10458</td>\n",
       "      <td>2022-06-27</td>\n",
       "      <td>10</td>\n",
       "      <td>vr</td>\n",
       "      <td>MV</td>\n",
       "      <td>Long-distance</td>\n",
       "      <td></td>\n",
       "      <td>False</td>\n",
       "      <td>False</td>\n",
       "      <td>283031056941</td>\n",
       "      <td>ADHOC</td>\n",
       "      <td>2022-06-27 11:45:02+00:00</td>\n",
       "      <td>[{'stationShortCode': 'TPE', 'stationUICCode':...</td>\n",
       "      <td>-1 days +23:56:58</td>\n",
       "    </tr>\n",
       "    <tr>\n",
       "      <th>43947</th>\n",
       "      <td>11841</td>\n",
       "      <td>2022-06-27</td>\n",
       "      <td>10</td>\n",
       "      <td>vr</td>\n",
       "      <td>VET</td>\n",
       "      <td>Locomotive</td>\n",
       "      <td></td>\n",
       "      <td>False</td>\n",
       "      <td>False</td>\n",
       "      <td>283032258531</td>\n",
       "      <td>ADHOC</td>\n",
       "      <td>2022-06-27 15:46:39+00:00</td>\n",
       "      <td>[{'stationShortCode': 'JY', 'stationUICCode': ...</td>\n",
       "      <td>-1 days +23:58:21</td>\n",
       "    </tr>\n",
       "    <tr>\n",
       "      <th>44316</th>\n",
       "      <td>65874</td>\n",
       "      <td>2022-06-27</td>\n",
       "      <td>10</td>\n",
       "      <td>vr</td>\n",
       "      <td>PAI</td>\n",
       "      <td>Shunting</td>\n",
       "      <td></td>\n",
       "      <td>False</td>\n",
       "      <td>False</td>\n",
       "      <td>283027251905</td>\n",
       "      <td>ADHOC</td>\n",
       "      <td>2022-06-27 06:11:39+00:00</td>\n",
       "      <td>[{'stationShortCode': 'JSK', 'stationUICCode':...</td>\n",
       "      <td>-1 days +23:57:21</td>\n",
       "    </tr>\n",
       "    <tr>\n",
       "      <th>44328</th>\n",
       "      <td>65938</td>\n",
       "      <td>2022-06-27</td>\n",
       "      <td>10</td>\n",
       "      <td>vr</td>\n",
       "      <td>VEV</td>\n",
       "      <td>Shunting</td>\n",
       "      <td></td>\n",
       "      <td>False</td>\n",
       "      <td>False</td>\n",
       "      <td>283027156826</td>\n",
       "      <td>ADHOC</td>\n",
       "      <td>2022-06-27 06:11:24+00:00</td>\n",
       "      <td>[{'stationShortCode': 'YKSV', 'stationUICCode'...</td>\n",
       "      <td>-1 days +23:39:36</td>\n",
       "    </tr>\n",
       "    <tr>\n",
       "      <th>44363</th>\n",
       "      <td>79946</td>\n",
       "      <td>2022-06-27</td>\n",
       "      <td>9996</td>\n",
       "      <td>sundstroms</td>\n",
       "      <td>TYO</td>\n",
       "      <td>On-track machines</td>\n",
       "      <td></td>\n",
       "      <td>True</td>\n",
       "      <td>False</td>\n",
       "      <td>283030820783</td>\n",
       "      <td>ADHOC</td>\n",
       "      <td>2022-06-27 10:51:56+00:00</td>\n",
       "      <td>[{'stationShortCode': 'PTO', 'stationUICCode':...</td>\n",
       "      <td>-1 days +23:27:04</td>\n",
       "    </tr>\n",
       "    <tr>\n",
       "      <th>45805</th>\n",
       "      <td>11823</td>\n",
       "      <td>2022-06-28</td>\n",
       "      <td>10</td>\n",
       "      <td>vr</td>\n",
       "      <td>VET</td>\n",
       "      <td>Locomotive</td>\n",
       "      <td></td>\n",
       "      <td>False</td>\n",
       "      <td>False</td>\n",
       "      <td>283036503241</td>\n",
       "      <td>ADHOC</td>\n",
       "      <td>2022-06-28 04:48:57+00:00</td>\n",
       "      <td>[{'stationShortCode': 'KRN', 'stationUICCode':...</td>\n",
       "      <td>-1 days +23:56:03</td>\n",
       "    </tr>\n",
       "    <tr>\n",
       "      <th>45811</th>\n",
       "      <td>11839</td>\n",
       "      <td>2022-06-28</td>\n",
       "      <td>10</td>\n",
       "      <td>vr</td>\n",
       "      <td>VET</td>\n",
       "      <td>Locomotive</td>\n",
       "      <td></td>\n",
       "      <td>False</td>\n",
       "      <td>False</td>\n",
       "      <td>283040880451</td>\n",
       "      <td>ADHOC</td>\n",
       "      <td>2022-06-28 16:08:59+00:00</td>\n",
       "      <td>[{'stationShortCode': 'ALV', 'stationUICCode':...</td>\n",
       "      <td>-1 days +23:56:01</td>\n",
       "    </tr>\n",
       "    <tr>\n",
       "      <th>49857</th>\n",
       "      <td>65950</td>\n",
       "      <td>2022-06-30</td>\n",
       "      <td>10</td>\n",
       "      <td>vr</td>\n",
       "      <td>VEV</td>\n",
       "      <td>Shunting</td>\n",
       "      <td></td>\n",
       "      <td>True</td>\n",
       "      <td>False</td>\n",
       "      <td>283057142319</td>\n",
       "      <td>ADHOC</td>\n",
       "      <td>2022-06-30 12:41:08+00:00</td>\n",
       "      <td>[{'stationShortCode': 'YKSV', 'stationUICCode'...</td>\n",
       "      <td>-1 days +23:49:52</td>\n",
       "    </tr>\n",
       "  </tbody>\n",
       "</table>\n",
       "</div>"
      ],
      "text/plain": [
       "       trainNumber departureDate  operatorUICCode operatorShortCode trainType  \\\n",
       "3093         10422    2022-06-02               10                vr        MV   \n",
       "3562         65882    2022-06-02               10                vr       PAI   \n",
       "5042         11877    2022-06-03               10                vr       VET   \n",
       "5339         65101    2022-06-03               10                vr         W   \n",
       "5422         79950    2022-06-03             9996        sundstroms       TYO   \n",
       "7992         65621    2022-06-05               10                vr       PAI   \n",
       "9750         65108    2022-06-06               10                vr       SAA   \n",
       "9801         70010    2022-06-06             2910          vr-track       TYO   \n",
       "11242        11784    2022-06-07               10                vr       VET   \n",
       "11574        65629    2022-06-07               10                vr       PAI   \n",
       "11588        65860    2022-06-07               10                vr       PAI   \n",
       "11600        65882    2022-06-07               10                vr       PAI   \n",
       "15008        58314    2022-06-09               10                vr         T   \n",
       "16736        11877    2022-06-10               10                vr       VET   \n",
       "17041        65556    2022-06-10               10                vr       PAI   \n",
       "17083        65938    2022-06-10               10                vr       VEV   \n",
       "17115        76121    2022-06-10             3177            destia       TYO   \n",
       "19779        70023    2022-06-12             2910          vr-track       TYO   \n",
       "21572        65876    2022-06-13               10                vr       PAI   \n",
       "23037        11773    2022-06-14               10                vr       VET   \n",
       "23430        71857    2022-06-14             2910          vr-track       TYO   \n",
       "27019        65000    2022-06-16               10                vr       SAA   \n",
       "31374        11818    2022-06-19               10                vr       VET   \n",
       "31607        65601    2022-06-19               10                vr       PAI   \n",
       "33087        11848    2022-06-20               10                vr       VET   \n",
       "33440        65872    2022-06-20               10                vr       PAI   \n",
       "36723        11843    2022-06-22               10                vr       VET   \n",
       "42189        10411    2022-06-26               10                vr        MV   \n",
       "43806        10430    2022-06-27               10                vr        MV   \n",
       "43809        10458    2022-06-27               10                vr        MV   \n",
       "43947        11841    2022-06-27               10                vr       VET   \n",
       "44316        65874    2022-06-27               10                vr       PAI   \n",
       "44328        65938    2022-06-27               10                vr       VEV   \n",
       "44363        79946    2022-06-27             9996        sundstroms       TYO   \n",
       "45805        11823    2022-06-28               10                vr       VET   \n",
       "45811        11839    2022-06-28               10                vr       VET   \n",
       "49857        65950    2022-06-30               10                vr       VEV   \n",
       "\n",
       "           trainCategory commuterLineID  runningCurrently  cancelled  \\\n",
       "3093       Long-distance                             True      False   \n",
       "3562            Shunting                            False      False   \n",
       "5042          Locomotive                            False      False   \n",
       "5339            Shunting                            False      False   \n",
       "5422   On-track machines                            False      False   \n",
       "7992            Shunting                            False      False   \n",
       "9750            Shunting                            False      False   \n",
       "9801   On-track machines                             True      False   \n",
       "11242         Locomotive                            False      False   \n",
       "11574           Shunting                            False      False   \n",
       "11588           Shunting                            False      False   \n",
       "11600           Shunting                            False      False   \n",
       "15008              Cargo                            False      False   \n",
       "16736         Locomotive                            False      False   \n",
       "17041           Shunting                            False      False   \n",
       "17083           Shunting                            False      False   \n",
       "17115  On-track machines                            False      False   \n",
       "19779  On-track machines                             True      False   \n",
       "21572           Shunting                            False      False   \n",
       "23037         Locomotive                            False      False   \n",
       "23430  On-track machines                            False      False   \n",
       "27019           Shunting                            False      False   \n",
       "31374         Locomotive                            False      False   \n",
       "31607           Shunting                            False      False   \n",
       "33087         Locomotive                            False      False   \n",
       "33440           Shunting                            False      False   \n",
       "36723         Locomotive                            False      False   \n",
       "42189      Long-distance                            False      False   \n",
       "43806      Long-distance                            False      False   \n",
       "43809      Long-distance                            False      False   \n",
       "43947         Locomotive                            False      False   \n",
       "44316           Shunting                            False      False   \n",
       "44328           Shunting                            False      False   \n",
       "44363  On-track machines                             True      False   \n",
       "45805         Locomotive                            False      False   \n",
       "45811         Locomotive                            False      False   \n",
       "49857           Shunting                             True      False   \n",
       "\n",
       "            version timetableType   timetableAcceptanceDate  \\\n",
       "3093   282828657811         ADHOC 2022-06-02 16:42:39+00:00   \n",
       "3562   282823756606         ADHOC 2022-06-02 07:06:51+00:00   \n",
       "5042   282831093905         ADHOC 2022-06-03 02:41:00+00:00   \n",
       "5339   282836915036         ADHOC 2022-06-03 15:56:40+00:00   \n",
       "5422   282837609239         ADHOC 2022-06-03 12:53:47+00:00   \n",
       "7992   282848925556         ADHOC 2022-06-05 05:55:10+00:00   \n",
       "9750   282859242872         ADHOC 2022-06-06 13:56:18+00:00   \n",
       "9801   282857835969         ADHOC 2022-06-06 09:31:45+00:00   \n",
       "11242  282865305057         ADHOC 2022-06-07 07:31:44+00:00   \n",
       "11574  282868667389         ADHOC 2022-06-07 15:23:46+00:00   \n",
       "11588  282864767197         ADHOC 2022-06-07 06:07:38+00:00   \n",
       "11600  282868820711         ADHOC 2022-06-07 16:36:21+00:00   \n",
       "15008  282886363926         ADHOC 2022-06-09 15:04:22+00:00   \n",
       "16736  282889718271         ADHOC 2022-06-10 03:31:00+00:00   \n",
       "17041  282894602229         ADHOC 2022-06-10 15:24:14+00:00   \n",
       "17083  282891395563         ADHOC 2022-06-10 08:02:08+00:00   \n",
       "17115  282888922300         ADHOC 2022-06-10 01:20:47+00:00   \n",
       "19779  282910382391         ADHOC 2022-06-12 15:08:27+00:00   \n",
       "21572  282914626384         ADHOC 2022-06-13 06:56:46+00:00   \n",
       "23037  282925304335         ADHOC 2022-06-14 09:50:16+00:00   \n",
       "23430  282921614662         ADHOC 2022-06-14 00:05:22+00:00   \n",
       "27019  282946731732         ADHOC 2022-06-16 19:14:09+00:00   \n",
       "31374  282967230544         ADHOC 2022-06-19 07:55:27+00:00   \n",
       "31607  282965465245         ADHOC 2022-06-19 04:12:37+00:00   \n",
       "33087  282976264894         ADHOC 2022-06-20 10:45:32+00:00   \n",
       "33440  282974653452         ADHOC 2022-06-20 07:41:56+00:00   \n",
       "36723  282995561771         ADHOC 2022-06-22 13:29:16+00:00   \n",
       "42189  283024851267         ADHOC 2022-06-26 18:09:30+00:00   \n",
       "43806  283034325088         ADHOC 2022-06-27 07:14:18+00:00   \n",
       "43809  283031056941         ADHOC 2022-06-27 11:45:02+00:00   \n",
       "43947  283032258531         ADHOC 2022-06-27 15:46:39+00:00   \n",
       "44316  283027251905         ADHOC 2022-06-27 06:11:39+00:00   \n",
       "44328  283027156826         ADHOC 2022-06-27 06:11:24+00:00   \n",
       "44363  283030820783         ADHOC 2022-06-27 10:51:56+00:00   \n",
       "45805  283036503241         ADHOC 2022-06-28 04:48:57+00:00   \n",
       "45811  283040880451         ADHOC 2022-06-28 16:08:59+00:00   \n",
       "49857  283057142319         ADHOC 2022-06-30 12:41:08+00:00   \n",
       "\n",
       "                                           timeTableRows  \\\n",
       "3093   [{'stationShortCode': 'II', 'stationUICCode': ...   \n",
       "3562   [{'stationShortCode': 'JSK', 'stationUICCode':...   \n",
       "5042   [{'stationShortCode': 'HVA', 'stationUICCode':...   \n",
       "5339   [{'stationShortCode': 'HY', 'stationUICCode': ...   \n",
       "5422   [{'stationShortCode': 'KEM', 'stationUICCode':...   \n",
       "7992   [{'stationShortCode': 'VKT', 'stationUICCode':...   \n",
       "9750   [{'stationShortCode': 'ILR', 'stationUICCode':...   \n",
       "9801   [{'stationShortCode': 'ML', 'stationUICCode': ...   \n",
       "11242  [{'stationShortCode': 'KPA', 'stationUICCode':...   \n",
       "11574  [{'stationShortCode': 'VKT', 'stationUICCode':...   \n",
       "11588  [{'stationShortCode': 'VI', 'stationUICCode': ...   \n",
       "11600  [{'stationShortCode': 'JSK', 'stationUICCode':...   \n",
       "15008  [{'stationShortCode': 'VLP', 'stationUICCode':...   \n",
       "16736  [{'stationShortCode': 'HVA', 'stationUICCode':...   \n",
       "17041  [{'stationShortCode': 'ONT', 'stationUICCode':...   \n",
       "17083  [{'stationShortCode': 'YKSV', 'stationUICCode'...   \n",
       "17115  [{'stationShortCode': 'SKI', 'stationUICCode':...   \n",
       "19779  [{'stationShortCode': 'KV', 'stationUICCode': ...   \n",
       "21572  [{'stationShortCode': 'JSK', 'stationUICCode':...   \n",
       "23037  [{'stationShortCode': 'HVA', 'stationUICCode':...   \n",
       "23430  [{'stationShortCode': 'KAJ', 'stationUICCode':...   \n",
       "27019  [{'stationShortCode': 'ILR', 'stationUICCode':...   \n",
       "31374  [{'stationShortCode': 'VSA', 'stationUICCode':...   \n",
       "31607  [{'stationShortCode': 'YKST', 'stationUICCode'...   \n",
       "33087  [{'stationShortCode': 'KRM', 'stationUICCode':...   \n",
       "33440  [{'stationShortCode': 'JSK', 'stationUICCode':...   \n",
       "36723  [{'stationShortCode': 'KEM', 'stationUICCode':...   \n",
       "42189  [{'stationShortCode': 'LR', 'stationUICCode': ...   \n",
       "43806  [{'stationShortCode': 'TL', 'stationUICCode': ...   \n",
       "43809  [{'stationShortCode': 'TPE', 'stationUICCode':...   \n",
       "43947  [{'stationShortCode': 'JY', 'stationUICCode': ...   \n",
       "44316  [{'stationShortCode': 'JSK', 'stationUICCode':...   \n",
       "44328  [{'stationShortCode': 'YKSV', 'stationUICCode'...   \n",
       "44363  [{'stationShortCode': 'PTO', 'stationUICCode':...   \n",
       "45805  [{'stationShortCode': 'KRN', 'stationUICCode':...   \n",
       "45811  [{'stationShortCode': 'ALV', 'stationUICCode':...   \n",
       "49857  [{'stationShortCode': 'YKSV', 'stationUICCode'...   \n",
       "\n",
       "      timespan_acceptance_scheduled  \n",
       "3093              -1 days +23:57:21  \n",
       "3562              -1 days +23:53:09  \n",
       "5042              -1 days +23:59:00  \n",
       "5339              -1 days +23:58:20  \n",
       "5422              -1 days +23:53:13  \n",
       "7992              -1 days +23:49:50  \n",
       "9750              -1 days +23:53:26  \n",
       "9801              -1 days +23:58:15  \n",
       "11242             -1 days +23:43:16  \n",
       "11574             -1 days +23:56:14  \n",
       "11588             -1 days +23:52:22  \n",
       "11600             -1 days +23:59:39  \n",
       "15008             -1 days +23:54:38  \n",
       "16736             -1 days +23:59:00  \n",
       "17041             -1 days +23:53:46  \n",
       "17083             -1 days +23:57:52  \n",
       "17115             -1 days +23:59:13  \n",
       "19779             -1 days +23:57:33  \n",
       "21572             -1 days +23:53:14  \n",
       "23037             -1 days +23:56:44  \n",
       "23430             -1 days +23:59:38  \n",
       "27019             -1 days +23:59:51  \n",
       "31374             -1 days +23:57:33  \n",
       "31607             -1 days +23:47:23  \n",
       "33087             -1 days +23:12:28  \n",
       "33440             -1 days +23:49:04  \n",
       "36723             -1 days +23:58:44  \n",
       "42189             -1 days +23:46:30  \n",
       "43806             -1 days +23:52:42  \n",
       "43809             -1 days +23:56:58  \n",
       "43947             -1 days +23:58:21  \n",
       "44316             -1 days +23:57:21  \n",
       "44328             -1 days +23:39:36  \n",
       "44363             -1 days +23:27:04  \n",
       "45805             -1 days +23:56:03  \n",
       "45811             -1 days +23:56:01  \n",
       "49857             -1 days +23:49:52  "
      ]
     },
     "execution_count": 91,
     "metadata": {},
     "output_type": "execute_result"
    }
   ],
   "source": [
    "df[\"timespan_acceptance_scheduled\"]=pd.to_datetime([alljourney[i].loc[0,\"scheduledTime\"] for i in range (len(alljourney))])-df.timetableAcceptanceDate\n",
    "mask1=(pd.to_datetime([alljourney[i].loc[0,\"scheduledTime\"] for i in range (len(alljourney))])<df.timetableAcceptanceDate)\n",
    "index1=np.where(mask1 == True)\n",
    "df.loc[index1]# We look at the datas where the timespan where scheduledTime is prior to timetableAcceptanceDate"
   ]
  },
  {
   "cell_type": "markdown",
   "metadata": {},
   "source": [
    "\"timespan_acceptance_scheduled\" is sometimes negative"
   ]
  },
  {
   "cell_type": "markdown",
   "metadata": {},
   "source": [
    "# Final conclusion\n"
   ]
  },
  {
   "cell_type": "markdown",
   "metadata": {},
   "source": [
    "Here are some key findings that may require attention of people who are managing the train traffic in Finland:\n",
    "\n",
    "- For some types of trains the number of cancelled missions might be considered to be excessive: locomotives (~ 30% of cancelled missions),VEV and PAI in Shunting trains category(~ 20% of cancelled missions), and also MUS and MV in long-distance category (~ 15%  of cancelled missions).\n",
    "\n",
    "- Some missions have huge delays (>3 hours).Among those missions, we can highlight some specific stations (TRÄ, RAS, TAP, PSL, KUV, LRS, MKO, LÄ, JTS and LR) for which the delay is hapening more than 10 times within the month, and those events are most probably caused by \"Railway works\" events, which exceed the \"agreed time for track work\".\n",
    "\n",
    "- We can see that some mission last for more than 12 hours despite a reduced number of stops (no more than ~ 25). It's most likely due to long stops at some stations, which seems to be according to the schedule. \n",
    "\n",
    "- Finally as it is mentionned on the latest section, some missions have an anomaly in the gap between the scheduled time and the timetable acceptance date (the acceptance date come sometimes after the scheduled time). A priori, this is not possible, but this most likely arrives when a mission is planned at the last moment (in fact, all these missions are ADHOC).\n"
   ]
  }
 ],
 "metadata": {
  "kernelspec": {
   "display_name": "Python 3",
   "language": "python",
   "name": "python3"
  },
  "language_info": {
   "codemirror_mode": {
    "name": "ipython",
    "version": 3
   },
   "file_extension": ".py",
   "mimetype": "text/x-python",
   "name": "python",
   "nbconvert_exporter": "python",
   "pygments_lexer": "ipython3",
   "version": "3.8.3"
  }
 },
 "nbformat": 4,
 "nbformat_minor": 4
}
